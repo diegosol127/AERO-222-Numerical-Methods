{
 "cells": [
  {
   "attachments": {},
   "cell_type": "markdown",
   "metadata": {},
   "source": [
    "# 1. Error Propagation"
   ]
  },
  {
   "cell_type": "code",
   "execution_count": null,
   "metadata": {},
   "outputs": [
    {
     "name": "stdout",
     "output_type": "stream",
     "text": [
      "muZ = 3.463427081999565\n",
      "muW = 9.935548654592328\n",
      "\n",
      "dz/dx = 5.375415834929969\n",
      "dz/dy = 9.126247504789905\n",
      "dw/dz = 18.072494631250116\n",
      "\n",
      "sigZ = 0.14102084069822707\n",
      "sigW = 2.5485983864130866\n"
     ]
    }
   ],
   "source": [
    "muX = 3\n",
    "muY = 2\n",
    "sigX = 0.02\n",
    "sigY = 0.01\n",
    "\n",
    "def z(x,y):\n",
    "    return 2*x - y + np.sin(x*y**2)\n",
    "\n",
    "def w(z):\n",
    "    return np.exp(z) - 2*(z**2 - 1)\n",
    "\n",
    "muZ = z(muX,muY)\n",
    "print(f'muZ = {muZ}')\n",
    "\n",
    "muW = w(muZ)\n",
    "print(f'muW = {muW}\\n')\n",
    "\n",
    "def dzdx(x,y):\n",
    "    return 2 + y**2*np.cos(x*y**2)\n",
    "\n",
    "def dzdy(x,y):\n",
    "    return -1 + 2*x*y*np.cos(x*y**2)\n",
    "\n",
    "def dwdz(z):\n",
    "    return np.exp(z) - 4*z\n",
    "\n",
    "print(f'dz/dx = {dzdx(muX,muY)}')\n",
    "print(f'dz/dy = {dzdy(muX,muY)}')\n",
    "print(f'dw/dz = {dwdz(muZ)}\\n')\n",
    "\n",
    "sigZ = np.sqrt((dzdx(muX,muY)*sigX)**2 + (dzdy(muX,muY)*sigY)**2)\n",
    "sigW = dwdz(muZ)*sigZ\n",
    "print(f'sigZ = {sigZ}')\n",
    "print(f'sigW = {sigW}')"
   ]
  }
 ],
 "metadata": {
  "kernelspec": {
   "display_name": "aero222",
   "language": "python",
   "name": "python3"
  },
  "language_info": {
   "name": "python",
   "version": "3.9.16 (main, Jan 11 2023, 16:16:36) [MSC v.1916 64 bit (AMD64)]"
  },
  "orig_nbformat": 4,
  "vscode": {
   "interpreter": {
    "hash": "b311900854484dab44d5e82618872b9b11068ad3efc1ba231edd74e0a2ecdab9"
   }
  }
 },
 "nbformat": 4,
 "nbformat_minor": 2
}
