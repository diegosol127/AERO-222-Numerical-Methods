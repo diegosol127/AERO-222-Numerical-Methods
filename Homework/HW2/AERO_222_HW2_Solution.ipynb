{
 "cells": [
  {
   "attachments": {},
   "cell_type": "markdown",
   "metadata": {},
   "source": [
    "Import libraries"
   ]
  },
  {
   "cell_type": "code",
   "execution_count": 18,
   "metadata": {},
   "outputs": [],
   "source": [
    "import numpy as np\n",
    "import matplotlib.pyplot as plt"
   ]
  },
  {
   "attachments": {},
   "cell_type": "markdown",
   "metadata": {},
   "source": [
    "# 1. Newton's Method"
   ]
  },
  {
   "attachments": {},
   "cell_type": "markdown",
   "metadata": {},
   "source": [
    "a) Newton-Raphson method with residual convergence criteria"
   ]
  },
  {
   "cell_type": "code",
   "execution_count": 19,
   "metadata": {},
   "outputs": [],
   "source": [
    "def newton_raphson_a(func,dFunc,x0,eps,maxIter=100):\n",
    "\n",
    "    print('*** NEWTON-RAPHSON METHOD: PART A ***')\n",
    "    \n",
    "    # declare variables\n",
    "    i = 1\n",
    "    iterations = []\n",
    "    residuals = []\n",
    "\n",
    "    xNew = x0\n",
    "    epsY = abs(func(xNew))\n",
    "    \n",
    "    while epsY > eps:\n",
    "        # stop condittions\n",
    "        if dFunc(x0) == 0:\n",
    "            print(f'ERROR: Divide by zero')\n",
    "            break\n",
    "        if i > maxIter:\n",
    "            print(f'ERROR: Not Convergent within {maxIter} iterations')\n",
    "            break\n",
    "        \n",
    "        # Newton-Raphson algorithm\n",
    "        xNew = x0 - func(x0)/dFunc(x0)\n",
    "        x0 = xNew\n",
    "\n",
    "        # residual and convergence\n",
    "        epsY = abs(func(xNew))\n",
    "\n",
    "        # log values\n",
    "        iterations.append(i)\n",
    "        residuals.append(epsY)\n",
    "        \n",
    "        i += 1\n",
    "\n",
    "    print(f'final x-value: {xNew}')\n",
    "    print(f'iterations: {iterations[-1]}')\n",
    "    print(f'final residual: {residuals[-1]}\\n')\n",
    "        \n",
    "    return xNew, iterations, residuals"
   ]
  },
  {
   "attachments": {},
   "cell_type": "markdown",
   "metadata": {},
   "source": [
    "b) Newton-Raphson method with convergence criteria $|x_{k+1} - x_k| > |x_k - x_{k-1}|$"
   ]
  },
  {
   "cell_type": "code",
   "execution_count": 20,
   "metadata": {},
   "outputs": [],
   "source": [
    "def newton_raphson_b(func,dFunc,x0,maxIter=100):\n",
    "\n",
    "    print('*** NEWTON-RAPHSON METHOD: PART B ***')\n",
    "    \n",
    "    # declare variables\n",
    "    i = 1\n",
    "    iterations = []\n",
    "    errors = []\n",
    "\n",
    "    err = 4\n",
    "    errOld = 5\n",
    "    \n",
    "    while (err < errOld) & (err != 0.0):\n",
    "        # stop condition\n",
    "        if i > maxIter:\n",
    "            print(f'ERROR: Not Convergent within {maxIter} iterations')\n",
    "            break\n",
    "        \n",
    "        # Newton-Raphson algorithm\n",
    "        xNew = x0 - func(x0)/dFunc(x0)\n",
    "\n",
    "        # error and convergence\n",
    "        errOld = err\n",
    "        err = abs(xNew - x0)\n",
    "        epsX = abs(func(xNew)/dFunc(xNew))\n",
    "\n",
    "        x0 = xNew\n",
    "\n",
    "        # log values\n",
    "        iterations.append(i)\n",
    "        errors.append(epsX)\n",
    "                \n",
    "        i += 1\n",
    "\n",
    "    print(f'final x-value: {xNew}')\n",
    "    print(f'iterations: {iterations[-2]}')\n",
    "    print(f'final error: {errors[-2]}\\n')\n",
    "        \n",
    "    return xNew, iterations, errors"
   ]
  },
  {
   "attachments": {},
   "cell_type": "markdown",
   "metadata": {},
   "source": [
    "Apply Newton's method to Problem 1"
   ]
  },
  {
   "cell_type": "code",
   "execution_count": 21,
   "metadata": {},
   "outputs": [
    {
     "name": "stdout",
     "output_type": "stream",
     "text": [
      "*** NEWTON-RAPHSON METHOD: PART A ***\n",
      "final x-value: -0.45517649709361596\n",
      "iterations: 4\n",
      "final residual: 8.326672684688674e-17\n",
      "\n",
      "*** NEWTON-RAPHSON METHOD: PART B ***\n",
      "final x-value: -0.4551764970936159\n",
      "iterations: 5\n",
      "final error: 1.1696102175607384e-17\n",
      "\n"
     ]
    },
    {
     "data": {
      "image/png": "[encoded data removed]",
      "text/plain": [
       "<Figure size 640x480 with 1 Axes>"
      ]
     },
     "metadata": {},
     "output_type": "display_data"
    }
   ],
   "source": [
    "# given function and derivative\n",
    "def f1(x):\n",
    "    return np.arctan(x) + np.exp(x) - x**2\n",
    "\n",
    "def df1(x):\n",
    "    return 1 / (1 + x**2) + np.exp(x) - 2*x\n",
    "\n",
    "def ddf1(x):\n",
    "    return -2*x / (1 + x**2)**2 + np.exp(x) - 2\n",
    "\n",
    "# compute root\n",
    "x0 = 0\n",
    "tol = 1e-8\n",
    "\n",
    "_, iterations1, convCrit1 = newton_raphson_a(f1,df1,x0,tol)\n",
    "_, iterations2, convCrit2  = newton_raphson_b(f1,df1,x0)\n",
    "\n",
    "plt.semilogy(iterations1,convCrit1,'b.-',label='Part a')\n",
    "plt.semilogy(iterations2,convCrit2,'r.-',label='Part b')\n",
    "plt.legend()\n",
    "plt.show()"
   ]
  },
  {
   "attachments": {},
   "cell_type": "markdown",
   "metadata": {},
   "source": [
    "c) Plot range of convergence for Newton's method"
   ]
  },
  {
   "cell_type": "code",
   "execution_count": 22,
   "metadata": {},
   "outputs": [
    {
     "data": {
      "image/png": "[encoded data removed]",
      "text/plain": [
       "<Figure size 640x480 with 1 Axes>"
      ]
     },
     "metadata": {},
     "output_type": "display_data"
    }
   ],
   "source": [
    "def dg(func,dFunc,ddFunc,x):\n",
    "    return func(x)*ddFunc(x) / dFunc(x)**2\n",
    "\n",
    "x = np.linspace(-10,10,500)\n",
    "\n",
    "plt.plot(x,dg(f1,df1,ddf1,x),'b-',label=r'$g^\\prime(x)$')\n",
    "plt.plot(x,-1*np.ones_like(x),'k--',label=r'$\\pm 1$')\n",
    "plt.plot(x,np.ones_like(x),'k--')\n",
    "plt.xlim([-10,10])\n",
    "plt.ylim([-3,3])\n",
    "plt.xlabel(r'$x$')\n",
    "plt.ylabel(r'$g^\\prime(x)$')\n",
    "plt.title('Range of convergence for the Newton-Raphson method')\n",
    "plt.legend()\n",
    "plt.show()"
   ]
  },
  {
   "attachments": {},
   "cell_type": "markdown",
   "metadata": {},
   "source": [
    "d) Rate of convergence and asymptotic error constant"
   ]
  },
  {
   "cell_type": "code",
   "execution_count": 23,
   "metadata": {},
   "outputs": [
    {
     "name": "stdout",
     "output_type": "stream",
     "text": [
      "Convergence rate: 2.003469499970437\n",
      "Asymptotic error constant: 0.16056547594126097\n"
     ]
    }
   ],
   "source": [
    "def convergenceRate(errors):\n",
    "    e1 = errors[-3]\n",
    "    e2 = errors[-2]\n",
    "    e3 = errors[-1]\n",
    "\n",
    "    num = np.log(e3) - np.log(e2)\n",
    "    den = np.log(e2) - np.log(e1)\n",
    "\n",
    "    return num/den\n",
    "\n",
    "def errorConstant(errors,alpha):\n",
    "    e1 = errors[-2]\n",
    "    e2 = errors[-1]\n",
    "\n",
    "    return e2 / e1**alpha\n",
    "\n",
    "alpha = convergenceRate(convCrit2[:-2])\n",
    "aec = errorConstant(convCrit2[:-2],alpha)\n",
    "\n",
    "print(f'Convergence rate: {alpha}')\n",
    "print(f'Asymptotic error constant: {aec}')"
   ]
  },
  {
   "attachments": {},
   "cell_type": "markdown",
   "metadata": {},
   "source": [
    "# 2. Error Propagation"
   ]
  },
  {
   "cell_type": "code",
   "execution_count": 24,
   "metadata": {},
   "outputs": [
    {
     "name": "stdout",
     "output_type": "stream",
     "text": [
      "muZ = 3.463427081999565\n",
      "muW = 9.935548654592328 ***\n",
      "\n",
      "dz/dx = 5.375415834929969\n",
      "dz/dy = 9.126247504789905\n",
      "dw/dz = 18.072494631250116\n",
      "\n",
      "sigZ = 0.14102084069822707\n",
      "sigW = 2.5485983864130866 ***\n"
     ]
    }
   ],
   "source": [
    "# given quantities and functions\n",
    "muX = 3\n",
    "muY = 2\n",
    "sigX = 0.02\n",
    "sigY = 0.01\n",
    "\n",
    "def z(x,y):\n",
    "    return 2*x - y + np.sin(x*y**2)\n",
    "\n",
    "def w(z):\n",
    "    return np.exp(z) - 2*(z**2 - 1)\n",
    "\n",
    "# compute mean values\n",
    "muZ = z(muX,muY)\n",
    "muW = w(muZ)\n",
    "print(f'muZ = {muZ}')\n",
    "print(f'muW = {muW} ***\\n')\n",
    "\n",
    "# partial derivatives\n",
    "def dzdx(x,y):\n",
    "    return 2 + y**2*np.cos(x*y**2)\n",
    "\n",
    "def dzdy(x,y):\n",
    "    return -1 + 2*x*y*np.cos(x*y**2)\n",
    "\n",
    "def dwdz(z):\n",
    "    return np.exp(z) - 4*z\n",
    "\n",
    "# evaluate partial derivatives at mean values\n",
    "print(f'dz/dx = {dzdx(muX,muY)}')\n",
    "print(f'dz/dy = {dzdy(muX,muY)}')\n",
    "print(f'dw/dz = {dwdz(muZ)}\\n')\n",
    "\n",
    "# compute standard deviations\n",
    "sigZ = np.sqrt((dzdx(muX,muY)*sigX)**2 + (dzdy(muX,muY)*sigY)**2)\n",
    "sigW = dwdz(muZ)*sigZ\n",
    "print(f'sigZ = {sigZ}')\n",
    "print(f'sigW = {sigW} ***')"
   ]
  },
  {
   "attachments": {},
   "cell_type": "markdown",
   "metadata": {},
   "source": [
    "# 3. Gaussian Elimination"
   ]
  },
  {
   "cell_type": "code",
   "execution_count": 25,
   "metadata": {},
   "outputs": [
    {
     "name": "stdout",
     "output_type": "stream",
     "text": [
      "x1 = 4.00000\n",
      "x2 = -8.00000\n",
      "x3 = 7.00000\n"
     ]
    }
   ],
   "source": [
    "# A = np.array([[3,  0, -4],\n",
    "#               [4,  1,  3],\n",
    "#               [1, -3,  5]])\n",
    "\n",
    "# B = np.array([-3,\\\n",
    "#                8,\\\n",
    "#                2])\n",
    "\n",
    "A = np.array([[1 ,  4,  5],\n",
    "              [5 , -2, -4],\n",
    "              [-3,  1,  2]],dtype=float)\n",
    "\n",
    "B = np.array([ 7,\\\n",
    "               8,\\\n",
    "              -6],dtype=float)\n",
    "\n",
    "x = np.linalg.inv(A) @ B\n",
    "\n",
    "print(f'x1 = {x[0]:0.5f}')\n",
    "print(f'x2 = {x[1]:0.5f}')\n",
    "print(f'x3 = {x[2]:0.5f}')"
   ]
  },
  {
   "cell_type": "code",
   "execution_count": 26,
   "metadata": {},
   "outputs": [],
   "source": [
    "# Gauss elimination with scaled partial pivoting \n",
    "def gaussElimPivotScale(M,v):\n",
    "    n = v.size\n",
    "\n",
    "    A = np.array(M,dtype=float)\n",
    "    b = np.array(v,dtype=float)\n",
    "    x = np.zeros(n)\n",
    "\n",
    "    # create scaling vector to keep track of scaling factors\n",
    "    s = np.zeros(n)\n",
    "    print('Original matrix:')\n",
    "    print(np.vstack([A.T,b]).T,'\\n')\n",
    "    for i in range(n):\n",
    "        s[i] = max(abs(A[i,:]))\n",
    "\n",
    "    print(f'scaling vector = {s}\\n')\n",
    "    # Elimination Step\n",
    "    for col in range(0,n-1):\n",
    "        print(f'Iteration {col+1}')\n",
    "        print('=================')\n",
    "        # determine the pivot row\n",
    "        i_max = np.argmax(abs(A[col:n,col])/s[col:n]) + col\n",
    "        A[col:n,col:n] = (A[col:n,col:n].T/s[col:n]).T\n",
    "        b[col:n] = b[col:n]/s[col:n]\n",
    "        print('After scaling:')\n",
    "        print(np.vstack([A.T,b]).T,'\\n')\n",
    "        if i_max != col:\n",
    "            # swap rows i_max and col\n",
    "            A[[i_max,col],:] = A[[col,i_max],:]\n",
    "            b[[i_max,col]] = b[[col,i_max]]\n",
    "            s[[i_max,col]] = s[[col,i_max]]\n",
    "            print('After pivoting:')\n",
    "            print(np.vstack([A.T,b]).T,'\\n')\n",
    "\n",
    "        # eliminate entries below the pivot\n",
    "        for row in range(col+1,n):\n",
    "            if A[col,col] == 0.0:\n",
    "                print('ERROR: divide by zero')\n",
    "                break\n",
    "\n",
    "            m = A[row,col]/A[col,col]\n",
    "            A[row,:] = A[row,:]-m*A[col,:]\n",
    "            b[row] = b[row]-m*b[col]\n",
    "            print('Matrix after elimination:')\n",
    "            print(np.vstack([A.T,b]).T,'\\n')\n",
    "\n",
    "    # Back substitution\n",
    "    x[n-1] = b[n-1]/A[n-1,n-1]\n",
    "    for row in range(n-2,-1,-1):\n",
    "\n",
    "        sum = 0\n",
    "        for col in range(row+1,n):\n",
    "            sum = sum + A[row,col]*x[col]\n",
    "\n",
    "        x[row] = (b[row] - sum) / A[row,row]\n",
    "        \n",
    "    return x\n",
    "\n",
    "def gauss_jordan(A, b):\n",
    "    n = A.shape[0]\n",
    "    Ab = np.concatenate((A, b.reshape(n, 1)), axis=1)\n",
    "    print(f'Original matrix: \\n{Ab}\\n')\n",
    "\n",
    "    # iterate over each column\n",
    "    for col in range(n):\n",
    "        print(f'Iteration {col+1}')\n",
    "        print('====================')\n",
    "        \n",
    "        # # partial pivoting\n",
    "        # pivot_row = col\n",
    "        # for i in range(col + 1, n):\n",
    "        #     if abs(Ab[i][col]) > abs(Ab[pivot_row][col]):\n",
    "        #         pivot_row = i\n",
    "        # Ab[[col, pivot_row]] = Ab[[pivot_row, col]]\n",
    "        # print(f'After partial pivoting\\n{Ab}\\n')\n",
    "        \n",
    "        # divide the pivot row by the pivot\n",
    "        pivot = Ab[col][col]\n",
    "        Ab[col] /= pivot\n",
    "        print(f'Normalize leading diagonal term\\n{Ab}\\n')\n",
    "        \n",
    "        # subtract multiples of the pivot row from all other rows\n",
    "        for row in range(n):\n",
    "            if row == col:\n",
    "                continue\n",
    "            factor = Ab[row][col]\n",
    "            Ab[row] -= factor * Ab[col]\n",
    "        print(f'Forward elimination\\n{Ab}\\n')\n",
    "    \n",
    "    # extract the solution vector from the augmented matrix\n",
    "    x = Ab[:, n]\n",
    "    \n",
    "    return x"
   ]
  },
  {
   "attachments": {},
   "cell_type": "markdown",
   "metadata": {},
   "source": [
    "Scaled Partial Pivoting"
   ]
  },
  {
   "cell_type": "code",
   "execution_count": 27,
   "metadata": {},
   "outputs": [
    {
     "name": "stdout",
     "output_type": "stream",
     "text": [
      "Original matrix: \n",
      "[[ 1.  4.  5.  7.]\n",
      " [ 5. -2. -4.  8.]\n",
      " [-3.  1.  2. -6.]]\n",
      "\n",
      "Iteration 1\n",
      "====================\n",
      "Normalize leading diagonal term\n",
      "[[ 1.  4.  5.  7.]\n",
      " [ 5. -2. -4.  8.]\n",
      " [-3.  1.  2. -6.]]\n",
      "\n",
      "Forward elimination\n",
      "[[  1.   4.   5.   7.]\n",
      " [  0. -22. -29. -27.]\n",
      " [  0.  13.  17.  15.]]\n",
      "\n",
      "Iteration 2\n",
      "====================\n",
      "Normalize leading diagonal term\n",
      "[[ 1.          4.          5.          7.        ]\n",
      " [-0.          1.          1.31818182  1.22727273]\n",
      " [ 0.         13.         17.         15.        ]]\n",
      "\n",
      "Forward elimination\n",
      "[[ 1.          0.         -0.27272727  2.09090909]\n",
      " [-0.          1.          1.31818182  1.22727273]\n",
      " [ 0.          0.         -0.13636364 -0.95454545]]\n",
      "\n",
      "Iteration 3\n",
      "====================\n",
      "Normalize leading diagonal term\n",
      "[[ 1.          0.         -0.27272727  2.09090909]\n",
      " [-0.          1.          1.31818182  1.22727273]\n",
      " [-0.         -0.          1.          7.        ]]\n",
      "\n",
      "Forward elimination\n",
      "[[ 1.  0.  0.  4.]\n",
      " [ 0.  1.  0. -8.]\n",
      " [-0. -0.  1.  7.]]\n",
      "\n",
      "[ 4. -8.  7.]\n"
     ]
    }
   ],
   "source": [
    "# xEst = gaussElimPivotScale(A,B)\n",
    "xEst = gauss_jordan(A,B)\n",
    "print(xEst)"
   ]
  },
  {
   "attachments": {},
   "cell_type": "markdown",
   "metadata": {},
   "source": [
    "# 4. An Aerospace Application"
   ]
  },
  {
   "attachments": {},
   "cell_type": "markdown",
   "metadata": {},
   "source": [
    "Given information"
   ]
  },
  {
   "cell_type": "code",
   "execution_count": 28,
   "metadata": {},
   "outputs": [
    {
     "data": {
      "image/png": "[encoded data removed]",
      "text/plain": [
       "<Figure size 640x480 with 1 Axes>"
      ]
     },
     "metadata": {},
     "output_type": "display_data"
    }
   ],
   "source": [
    "# pressure ratio\n",
    "pRatio = 1.364\n",
    "\n",
    "# Mach number\n",
    "M = 0.78\n",
    "\n",
    "# isentropic equation set to zero\n",
    "def f4(gamma):\n",
    "    return (1 + (gamma - 1)/2 * M**2)**(gamma / (gamma - 1)) - pRatio\n",
    "\n",
    "g = np.linspace(-2,3)\n",
    "\n",
    "plt.plot(g,f4(g),'b-')\n",
    "plt.plot(g,np.zeros_like(g),'k--')\n",
    "plt.show()"
   ]
  },
  {
   "attachments": {},
   "cell_type": "markdown",
   "metadata": {},
   "source": [
    "Newton-Raphson with finite differences"
   ]
  },
  {
   "cell_type": "code",
   "execution_count": 29,
   "metadata": {},
   "outputs": [
    {
     "name": "stdout",
     "output_type": "stream",
     "text": [
      "*** NEWTON-RAPHSON METHOD: PART A ***\n",
      "final x-value: 1.024204389493081\n",
      "iterations: 3\n",
      "final residual: 8.396616735240059e-12\n",
      "\n",
      "*** NEWTON-RAPHSON METHOD: PART B ***\n",
      "final x-value: 1.0242043894690351\n",
      "iterations: 5\n",
      "final error: 1.2710114073273808e-14\n",
      "\n",
      "final residual: 4.440892098500626e-15\n"
     ]
    }
   ],
   "source": [
    "# finite difference step size\n",
    "h = 1e-9\n",
    "\n",
    "# derivative approximated by finite difference\n",
    "def df4(x):\n",
    "    return (f4(x + h) - f4(x)) / h\n",
    "\n",
    "# initial guess and tolerance\n",
    "gamma0 = 0\n",
    "tol = 1e-8\n",
    "\n",
    "# solve\n",
    "_, _, _ = newton_raphson_a(f4,df4,gamma0,tol)\n",
    "xNew, _, _ = newton_raphson_b(f4,df4,gamma0)\n",
    "print(f'final residual: {f4(xNew)}')"
   ]
  },
  {
   "cell_type": "code",
   "execution_count": 30,
   "metadata": {},
   "outputs": [],
   "source": [
    "def regula_falsi(func,dFunc,x0,x1,eps,maxIter=1e5):\n",
    "    #==================================================================\n",
    "    # INPUTS\n",
    "    #   - func: function handle\n",
    "    #   - dFunc: derivative function handle\n",
    "    #   - x0: left boundary\n",
    "    #   - x1: right boundary\n",
    "    #   - eps: tolerance\n",
    "    #   - maxIter: maximum number of iterations before quitting\n",
    "    # OUTPUTS\n",
    "    #   - xNew: root caculated by this method\n",
    "    #   - iterations: array of iterations counted\n",
    "    #   - errors: array of errors corresponding to each iteration\n",
    "    #==================================================================\n",
    "\n",
    "    print('*** REGULA-FALSI METHOD ***')\n",
    "    \n",
    "    # declare variables\n",
    "    i = 1\n",
    "    iterations = []\n",
    "    errors = []\n",
    "\n",
    "    # initialize check condition as True to start the loop\n",
    "    condition = True\n",
    "\n",
    "    # loop as long as the absolute error is greater than the tolerance\n",
    "    while condition:\n",
    "        # force while loop to stop after a certain amount of iterations\n",
    "        if i > maxIter:\n",
    "            print(f'ERROR: Not Convergent within {maxIter} iterations')\n",
    "            break\n",
    "        \n",
    "        # calculate new x-value and apply Regula-Falsi method algorithm\n",
    "        xNew = x0 - (x1-x0)*func(x0) / (func(x1)-func(x0))\n",
    "        print(xNew)\n",
    "\n",
    "        # check boundaries to decide which to replace\n",
    "        if func(x0)*func(xNew) < 0:\n",
    "            # replace right boundary\n",
    "            x1 = xNew\n",
    "        else:\n",
    "            # replace left boundary\n",
    "            x0 = xNew\n",
    "        \n",
    "        # compute new absolute error\n",
    "        errorNew = abs(func(xNew) / dFunc(xNew))\n",
    "\n",
    "        # log iteration and error\n",
    "        iterations.append(i)\n",
    "        errors.append(errorNew)\n",
    "        \n",
    "        # set new tolerance condition for the while loop to check\n",
    "        condition = errorNew > eps\n",
    "\n",
    "        # increment iterator\n",
    "        i += 1\n",
    "    \n",
    "    print(f'final x-value: {xNew}')\n",
    "    print(f'iterations: {i-1}')\n",
    "    print(f'error: {func(xNew)}\\n')\n",
    "\n",
    "    return xNew, iterations, errors"
   ]
  },
  {
   "cell_type": "code",
   "execution_count": 31,
   "metadata": {},
   "outputs": [
    {
     "name": "stdout",
     "output_type": "stream",
     "text": [
      "*** REGULA-FALSI METHOD ***\n",
      "1.0081513178279529\n",
      "1.024303817483498\n",
      "1.0242044116832905\n",
      "final x-value: 1.0242044116832905\n",
      "iterations: 3\n",
      "error: 7.761663090022353e-09\n",
      "\n"
     ]
    },
    {
     "data": {
      "image/png": "[encoded data removed]",
      "text/plain": [
       "<Figure size 640x480 with 1 Axes>"
      ]
     },
     "metadata": {},
     "output_type": "display_data"
    }
   ],
   "source": [
    "xNew, iterations, errors = regula_falsi(f4,df4,1.5,5,1e-5,maxIter=1e5)\n",
    "plt.semilogy(iterations,errors)\n",
    "plt.show()"
   ]
  }
 ],
 "metadata": {
  "kernelspec": {
   "display_name": "aero222",
   "language": "python",
   "name": "python3"
  },
  "language_info": {
   "codemirror_mode": {
    "name": "ipython",
    "version": 3
   },
   "file_extension": ".py",
   "mimetype": "text/x-python",
   "name": "python",
   "nbconvert_exporter": "python",
   "pygments_lexer": "ipython3",
   "version": "3.9.16"
  },
  "orig_nbformat": 4,
  "vscode": {
   "interpreter": {
    "hash": "b311900854484dab44d5e82618872b9b11068ad3efc1ba231edd74e0a2ecdab9"
   }
  }
 },
 "nbformat": 4,
 "nbformat_minor": 2
}
