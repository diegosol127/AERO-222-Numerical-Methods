{
 "cells": [
  {
   "attachments": {},
   "cell_type": "markdown",
   "metadata": {},
   "source": [
    "Import libraries"
   ]
  },
  {
   "cell_type": "code",
   "execution_count": 2,
   "metadata": {},
   "outputs": [],
   "source": [
    "import numpy as np\n",
    "import matplotlib.pyplot as plt"
   ]
  },
  {
   "attachments": {},
   "cell_type": "markdown",
   "metadata": {},
   "source": [
    "# 1. Newton's Method"
   ]
  },
  {
   "attachments": {},
   "cell_type": "markdown",
   "metadata": {},
   "source": [
    "a) Newton-Raphson method with residual convergence criteria"
   ]
  },
  {
   "cell_type": "code",
   "execution_count": 3,
   "metadata": {},
   "outputs": [],
   "source": [
    "def newton_raphson_a(func,dFunc,x0,eps,maxIter=100):\n",
    "\n",
    "    print('*** NEWTON-RAPHSON METHOD: PART A ***')\n",
    "    \n",
    "    # declare variables\n",
    "    i = 1\n",
    "    iterations = []\n",
    "    residuals = []\n",
    "\n",
    "    xNew = x0\n",
    "    epsY = abs(func(xNew))\n",
    "    \n",
    "    while epsY > eps:\n",
    "        # stop condittions\n",
    "        if dFunc(x0) == 0:\n",
    "            print(f'ERROR: Divide by zero')\n",
    "            break\n",
    "        if i > maxIter:\n",
    "            print(f'ERROR: Not Convergent within {maxIter} iterations')\n",
    "            break\n",
    "        \n",
    "        # Newton-Raphson algorithm\n",
    "        xNew = x0 - func(x0)/dFunc(x0)\n",
    "        x0 = xNew\n",
    "\n",
    "        # residual and convergence\n",
    "        epsY = abs(func(xNew))\n",
    "\n",
    "        # log values\n",
    "        iterations.append(i)\n",
    "        residuals.append(epsY)\n",
    "        \n",
    "        i += 1\n",
    "\n",
    "    print(f'final x-value: {xNew}')\n",
    "    print(f'iterations: {iterations[-1]}')\n",
    "    print(f'final residual: {residuals[-1]}\\n')\n",
    "        \n",
    "    return xNew, iterations, residuals"
   ]
  },
  {
   "attachments": {},
   "cell_type": "markdown",
   "metadata": {},
   "source": [
    "b) Newton-Raphson method with convergence criteria $|x_{k+1} - x_k| > |x_k - x_{k-1}|$"
   ]
  },
  {
   "cell_type": "code",
   "execution_count": 4,
   "metadata": {},
   "outputs": [],
   "source": [
    "def newton_raphson_b(func,dFunc,x0,maxIter=100):\n",
    "\n",
    "    print('*** NEWTON-RAPHSON METHOD: PART B ***')\n",
    "    \n",
    "    # declare variables\n",
    "    i = 1\n",
    "    iterations = []\n",
    "    errors = []\n",
    "\n",
    "    err = 4\n",
    "    errOld = 5\n",
    "    \n",
    "    while (err < errOld) & (err != 0.0):\n",
    "        # stop condition\n",
    "        if i > maxIter:\n",
    "            print(f'ERROR: Not Convergent within {maxIter} iterations')\n",
    "            break\n",
    "        \n",
    "        # Newton-Raphson algorithm\n",
    "        xNew = x0 - func(x0)/dFunc(x0)\n",
    "\n",
    "        # error and convergence\n",
    "        errOld = err\n",
    "        err = abs(xNew - x0)\n",
    "\n",
    "        x0 = xNew\n",
    "\n",
    "        # log values\n",
    "        iterations.append(i)\n",
    "        errors.append(err)\n",
    "                \n",
    "        i += 1\n",
    "\n",
    "    print(f'final x-value: {xNew}')\n",
    "    print(f'iterations: {iterations[-2]}')\n",
    "    print(f'final error: {errors[-2]}\\n')\n",
    "        \n",
    "    return xNew, iterations, errors"
   ]
  },
  {
   "attachments": {},
   "cell_type": "markdown",
   "metadata": {},
   "source": [
    "Apply Newton's method to Problem 1"
   ]
  },
  {
   "cell_type": "code",
   "execution_count": 5,
   "metadata": {},
   "outputs": [
    {
     "name": "stdout",
     "output_type": "stream",
     "text": [
      "*** NEWTON-RAPHSON METHOD: PART A ***\n",
      "final x-value: -0.45517649709361596\n",
      "iterations: 4\n",
      "final residual: 8.326672684688674e-17\n",
      "\n",
      "*** NEWTON-RAPHSON METHOD: PART B ***\n",
      "final x-value: -0.4551764970936159\n",
      "iterations: 5\n",
      "final error: 5.551115123125783e-17\n",
      "\n"
     ]
    },
    {
     "data": {
      "image/png": "[encoded data removed]",
      "text/plain": [
       "<Figure size 640x480 with 1 Axes>"
      ]
     },
     "metadata": {},
     "output_type": "display_data"
    }
   ],
   "source": [
    "# given function and derivative\n",
    "def f1(x):\n",
    "    return np.arctan(x) + np.exp(x) - x**2\n",
    "\n",
    "def df1(x):\n",
    "    return 1 / (1 + x**2) + np.exp(x) - 2*x\n",
    "\n",
    "def ddf1(x):\n",
    "    return -2*x / (1 + x**2)**2 + np.exp(x) - 2\n",
    "\n",
    "# compute root\n",
    "x0 = 0\n",
    "tol = 1e-8\n",
    "\n",
    "_, iterations1, convCrit1 = newton_raphson_a(f1,df1,x0,tol)\n",
    "_, iterations2, convCrit2  = newton_raphson_b(f1,df1,x0)\n",
    "\n",
    "plt.semilogy(iterations1,convCrit1,'b.-',label='Part a')\n",
    "plt.semilogy(iterations2,convCrit2,'r.-',label='Part b')\n",
    "plt.legend()\n",
    "plt.show()"
   ]
  },
  {
   "attachments": {},
   "cell_type": "markdown",
   "metadata": {},
   "source": [
    "c) Plot range of convergence for Newton's method"
   ]
  },
  {
   "cell_type": "code",
   "execution_count": 6,
   "metadata": {},
   "outputs": [
    {
     "data": {
      "image/png": "[encoded data removed]",
      "text/plain": [
       "<Figure size 640x480 with 1 Axes>"
      ]
     },
     "metadata": {},
     "output_type": "display_data"
    }
   ],
   "source": [
    "def dg(func,dFunc,ddFunc,x):\n",
    "    return func(x)*ddFunc(x) / dFunc(x)**2\n",
    "\n",
    "x = np.linspace(-10,10,500)\n",
    "\n",
    "plt.plot(x,dg(f1,df1,ddf1,x),'b-',label=r'$g^\\prime(x)$')\n",
    "plt.plot(x,-1*np.ones_like(x),'k--',label=r'$\\pm 1$')\n",
    "plt.plot(x,np.ones_like(x),'k--')\n",
    "plt.xlim([-10,10])\n",
    "plt.ylim([-3,3])\n",
    "plt.xlabel(r'$x$')\n",
    "plt.ylabel(r'$g^\\prime(x)$')\n",
    "plt.title('Range of convergence for the Newton-Raphson method')\n",
    "plt.legend()\n",
    "plt.show()"
   ]
  },
  {
   "attachments": {},
   "cell_type": "markdown",
   "metadata": {},
   "source": [
    "d) Rate of convergence and asymptotic error constant"
   ]
  },
  {
   "cell_type": "code",
   "execution_count": 7,
   "metadata": {},
   "outputs": [
    {
     "name": "stdout",
     "output_type": "stream",
     "text": [
      "Convergence rate: 1.9572643847319036\n",
      "Asymptotic error constant: 0.11058575106055786\n"
     ]
    }
   ],
   "source": [
    "def convergenceRate(errors):\n",
    "    e1 = errors[-3]\n",
    "    e2 = errors[-2]\n",
    "    e3 = errors[-1]\n",
    "\n",
    "    num = np.log(e3) - np.log(e2)\n",
    "    den = np.log(e2) - np.log(e1)\n",
    "\n",
    "    return num/den\n",
    "\n",
    "def errorConstant(errors,alpha):\n",
    "    e1 = errors[-2]\n",
    "    e2 = errors[-1]\n",
    "\n",
    "    return e2 / e1**alpha\n",
    "\n",
    "alpha = convergenceRate(convCrit2[:-1])\n",
    "aec = errorConstant(convCrit2[:-1],alpha)\n",
    "\n",
    "print(f'Convergence rate: {alpha}')\n",
    "print(f'Asymptotic error constant: {aec}')"
   ]
  },
  {
   "attachments": {},
   "cell_type": "markdown",
   "metadata": {},
   "source": [
    "# 2. Error Propagation"
   ]
  },
  {
   "cell_type": "code",
   "execution_count": 8,
   "metadata": {},
   "outputs": [
    {
     "name": "stdout",
     "output_type": "stream",
     "text": [
      "muZ = 3.463427081999565\n",
      "muW = 9.935548654592328 ***\n",
      "\n",
      "dz/dx = 5.375415834929969\n",
      "dz/dy = 9.126247504789905\n",
      "dw/dz = 18.072494631250116\n",
      "\n",
      "sigZ = 0.14102084069822707\n",
      "sigW = 2.5485983864130866 ***\n"
     ]
    }
   ],
   "source": [
    "# given quantities and functions\n",
    "muX = 3\n",
    "muY = 2\n",
    "sigX = 0.02\n",
    "sigY = 0.01\n",
    "\n",
    "def z(x,y):\n",
    "    return 2*x - y + np.sin(x*y**2)\n",
    "\n",
    "def w(z):\n",
    "    return np.exp(z) - 2*(z**2 - 1)\n",
    "\n",
    "# compute mean values\n",
    "muZ = z(muX,muY)\n",
    "muW = w(muZ)\n",
    "print(f'muZ = {muZ}')\n",
    "print(f'muW = {muW} ***\\n')\n",
    "\n",
    "# partial derivatives\n",
    "def dzdx(x,y):\n",
    "    return 2 + y**2*np.cos(x*y**2)\n",
    "\n",
    "def dzdy(x,y):\n",
    "    return -1 + 2*x*y*np.cos(x*y**2)\n",
    "\n",
    "def dwdz(z):\n",
    "    return np.exp(z) - 4*z\n",
    "\n",
    "# evaluate partial derivatives at mean values\n",
    "print(f'dz/dx = {dzdx(muX,muY)}')\n",
    "print(f'dz/dy = {dzdy(muX,muY)}')\n",
    "print(f'dw/dz = {dwdz(muZ)}\\n')\n",
    "\n",
    "# compute standard deviations\n",
    "sigZ = np.sqrt((dzdx(muX,muY)*sigX)**2 + (dzdy(muX,muY)*sigY)**2)\n",
    "sigW = dwdz(muZ)*sigZ\n",
    "print(f'sigZ = {sigZ}')\n",
    "print(f'sigW = {sigW} ***')"
   ]
  },
  {
   "attachments": {},
   "cell_type": "markdown",
   "metadata": {},
   "source": [
    "# 3. Gaussian Elimination"
   ]
  },
  {
   "cell_type": "code",
   "execution_count": 9,
   "metadata": {},
   "outputs": [
    {
     "name": "stdout",
     "output_type": "stream",
     "text": [
      "x1 = 0.65957\n",
      "x2 = 1.62766\n",
      "x3 = 1.24468\n"
     ]
    }
   ],
   "source": [
    "A = np.array([[3,  0, -4],\n",
    "              [4,  1,  3],\n",
    "              [1, -3,  5]])\n",
    "\n",
    "B = np.array([-3,\\\n",
    "               8,\\\n",
    "               2])\n",
    "\n",
    "x = np.linalg.inv(A) @ B\n",
    "\n",
    "print(f'x1 = {x[0]:0.5f}')\n",
    "print(f'x2 = {x[1]:0.5f}')\n",
    "print(f'x3 = {x[2]:0.5f}')"
   ]
  },
  {
   "attachments": {},
   "cell_type": "markdown",
   "metadata": {},
   "source": [
    "# 4. An Aerospace Application"
   ]
  },
  {
   "attachments": {},
   "cell_type": "markdown",
   "metadata": {},
   "source": [
    "Given information"
   ]
  },
  {
   "cell_type": "code",
   "execution_count": 10,
   "metadata": {},
   "outputs": [
    {
     "data": {
      "image/png": "[encoded data removed]",
      "text/plain": [
       "<Figure size 640x480 with 1 Axes>"
      ]
     },
     "metadata": {},
     "output_type": "display_data"
    }
   ],
   "source": [
    "# pressure ratio\n",
    "pRatio = 1.364\n",
    "\n",
    "# Mach number\n",
    "M = 0.78\n",
    "\n",
    "# isentropic equation set to zero\n",
    "def f4(gamma):\n",
    "    return (1 + (gamma - 1)/2 * M**2)**(gamma / (gamma - 1)) - pRatio\n",
    "\n",
    "g = np.linspace(-2,3)\n",
    "\n",
    "plt.plot(g,f4(g),'b-')\n",
    "plt.plot(g,np.zeros_like(g),'k--')\n",
    "plt.show()"
   ]
  },
  {
   "attachments": {},
   "cell_type": "markdown",
   "metadata": {},
   "source": [
    "Newton-Raphson with finite differences"
   ]
  },
  {
   "cell_type": "code",
   "execution_count": 11,
   "metadata": {},
   "outputs": [
    {
     "name": "stdout",
     "output_type": "stream",
     "text": [
      "*** NEWTON-RAPHSON METHOD: PART A ***\n",
      "final x-value: 1.024204389493081\n",
      "iterations: 3\n",
      "final residual: 8.396616735240059e-12\n",
      "\n",
      "*** NEWTON-RAPHSON METHOD: PART B ***\n",
      "final x-value: 1.0242043894690351\n",
      "iterations: 5\n",
      "final error: 2.4424906541753444e-15\n",
      "\n",
      "final residual: 4.440892098500626e-15\n"
     ]
    }
   ],
   "source": [
    "# finite difference step size\n",
    "h = 1e-9\n",
    "\n",
    "# derivative approximated by finite difference\n",
    "def df4(x):\n",
    "    return (f4(x + h) - f4(x)) / h\n",
    "\n",
    "# initial guess and tolerance\n",
    "gamma0 = 0\n",
    "tol = 1e-8\n",
    "\n",
    "# solve\n",
    "_, _, _ = newton_raphson_a(f4,df4,gamma0,tol)\n",
    "xNew, _, _ = newton_raphson_b(f4,df4,gamma0)\n",
    "print(f'final residual: {f4(xNew)}')"
   ]
  }
 ],
 "metadata": {
  "kernelspec": {
   "display_name": "aero222",
   "language": "python",
   "name": "python3"
  },
  "language_info": {
   "codemirror_mode": {
    "name": "ipython",
    "version": 3
   },
   "file_extension": ".py",
   "mimetype": "text/x-python",
   "name": "python",
   "nbconvert_exporter": "python",
   "pygments_lexer": "ipython3",
   "version": "3.9.16"
  },
  "orig_nbformat": 4,
  "vscode": {
   "interpreter": {
    "hash": "b311900854484dab44d5e82618872b9b11068ad3efc1ba231edd74e0a2ecdab9"
   }
  }
 },
 "nbformat": 4,
 "nbformat_minor": 2
}
