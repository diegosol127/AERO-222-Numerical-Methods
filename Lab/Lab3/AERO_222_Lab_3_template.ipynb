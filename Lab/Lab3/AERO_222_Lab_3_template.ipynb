{
 "cells": [
  {
   "attachments": {},
   "cell_type": "markdown",
   "metadata": {},
   "source": [
    "Import libraries"
   ]
  },
  {
   "cell_type": "code",
   "execution_count": 2,
   "metadata": {},
   "outputs": [],
   "source": [
    "import numpy as np\n",
    "from numpy import linalg\n",
    "import matplotlib.pyplot as plt"
   ]
  },
  {
   "attachments": {},
   "cell_type": "markdown",
   "metadata": {},
   "source": [
    "# Halley Cubic Method"
   ]
  },
  {
   "attachments": {},
   "cell_type": "markdown",
   "metadata": {},
   "source": [
    "Consider the following function\n",
    "\n",
    "$$f(x) = \\cos{x} - x$$"
   ]
  },
  {
   "cell_type": "code",
   "execution_count": 3,
   "metadata": {},
   "outputs": [
    {
     "data": {
      "image/png": "[encoded data removed]",
      "text/plain": [
       "<Figure size 640x480 with 1 Axes>"
      ]
     },
     "metadata": {},
     "output_type": "display_data"
    }
   ],
   "source": [
    "def f(x):\n",
    "    return np.cos(x) - x\n",
    "\n",
    "def df(x):\n",
    "    return -np.sin(x) - 1\n",
    "\n",
    "def ddf(x):\n",
    "    return -np.cos(x)\n",
    "\n",
    "x = np.linspace(-4,4,100)\n",
    "\n",
    "plt.plot(x,f(x),'b-',label=r'$f(x) = \\cos{x} - x$')\n",
    "plt.plot(x,np.zeros_like(x),'k--',label=r'$f(x) = 0$')\n",
    "plt.xlabel(r'$x$')\n",
    "plt.ylabel(r'$f(x)$')\n",
    "plt.title('Function crossing zero')\n",
    "plt.legend()\n",
    "plt.show()"
   ]
  },
  {
   "attachments": {},
   "cell_type": "markdown",
   "metadata": {},
   "source": [
    "Halley Cubic Algorithm"
   ]
  },
  {
   "cell_type": "code",
   "execution_count": 4,
   "metadata": {},
   "outputs": [],
   "source": [
    "def halley(func,dFunc,ddFunc,x0,tol,maxIter=1e5):\n",
    "    #==================================================================\n",
    "    # INPUTS\n",
    "    #   - func: function handle\n",
    "    #   - dFunc: derivative function handle\n",
    "    #   - ddFunc: 2nd derivative function handle\n",
    "    #   - x0: initial guess\n",
    "    #   - tol: tolerance\n",
    "    #   - maxIter: maximum number of iterations before quitting\n",
    "    # OUTPUTS\n",
    "    #   - xNew: root caculated by this method\n",
    "    #   - iterations: array of iterations counted\n",
    "    #   - errors: array of errors corresponding to each iteration\n",
    "    #==================================================================\n",
    "\n",
    "    print('*** HALLEY CUBIC METHOD ***')\n",
    "    \n",
    "    # declare variables\n",
    "    i = 1\n",
    "    iterations = []\n",
    "    errors = []\n",
    "\n",
    "    # initialize check condition as True to start the loop\n",
    "    condition = True\n",
    "\n",
    "    # loop as long as the absolute error is greater than the tolerance\n",
    "    while condition:\n",
    "        # force while loop to stop after a certain amount of iterations\n",
    "        if i > maxIter:\n",
    "            print(f'ERROR: Not Convergent within {maxIter} iterations')\n",
    "            break\n",
    "        \n",
    "        # INSERT CODE HERE\n",
    "        # \n",
    "        # xNew = ...\n",
    "\n",
    "        # compute new absolute error\n",
    "        epsX = abs(func(xNew) / dFunc(xNew))\n",
    "\n",
    "        # log iteration and error\n",
    "        iterations.append(i)\n",
    "        errors.append(epsX)\n",
    "        \n",
    "        # set new tolerance condition for the while loop to check\n",
    "        condition = epsX > tol\n",
    "\n",
    "        # increment iterator\n",
    "        i += 1\n",
    "\n",
    "    print(f'final x-value: {xNew}')\n",
    "    print(f'iterations: {i-1}')\n",
    "    print(f'error: {func(xNew)}\\n')\n",
    "        \n",
    "    return xNew, iterations, errors"
   ]
  },
  {
   "attachments": {},
   "cell_type": "markdown",
   "metadata": {},
   "source": [
    "Test the algorithm and plot it"
   ]
  },
  {
   "cell_type": "code",
   "execution_count": 5,
   "metadata": {},
   "outputs": [],
   "source": [
    "# x0 = -4\n",
    "# tol = 1e-6\n",
    "\n",
    "# xNew1, iterations, errors = halley(f,df,ddf,x0,tol)\n",
    "\n",
    "# plt.semilogy(iterations,errors)\n",
    "# plt.xlabel('Iteration')\n",
    "# plt.ylabel(r'Absolute Error $|\\epsilon_x|$')\n",
    "# plt.title(f'Halley Cubic Method Convergence, tol = {tol}')\n",
    "# plt.show()"
   ]
  },
  {
   "attachments": {},
   "cell_type": "markdown",
   "metadata": {},
   "source": [
    "# Convergence"
   ]
  },
  {
   "attachments": {},
   "cell_type": "markdown",
   "metadata": {},
   "source": [
    "Use the equation below to compute the convergence rate of convergence for the Halley cubic method.\n",
    "\n",
    "$$\\alpha = \\frac{\\ln(e_{n+1}) - \\ln{(e_{n})}}{\\ln(e_{n}) - \\ln{(e_{n-1}})}$$"
   ]
  },
  {
   "cell_type": "code",
   "execution_count": 6,
   "metadata": {},
   "outputs": [
    {
     "name": "stdout",
     "output_type": "stream",
     "text": [
      "Convergence Rate = \n"
     ]
    }
   ],
   "source": [
    "def convergenceRate(errors):\n",
    "    return 0\n",
    "\n",
    "print(f'Convergence Rate = ')"
   ]
  },
  {
   "attachments": {},
   "cell_type": "markdown",
   "metadata": {},
   "source": [
    "Use the equation below to calculate the error constant, $\\lambda$.\n",
    "\n",
    "$$\\lambda = \\frac{e_{n}}{e_{n-1}^{\\alpha}} = \\frac{e_{n+1}}{e_{n}^{\\alpha}}$$"
   ]
  },
  {
   "cell_type": "code",
   "execution_count": 7,
   "metadata": {},
   "outputs": [
    {
     "name": "stdout",
     "output_type": "stream",
     "text": [
      "Error constant = \n"
     ]
    }
   ],
   "source": [
    "def errorConstant(errors,alpha):\n",
    "    return 0\n",
    "\n",
    "print(f'Error constant = ')"
   ]
  },
  {
   "attachments": {},
   "cell_type": "markdown",
   "metadata": {},
   "source": [
    "# Aitken Acceleration"
   ]
  },
  {
   "attachments": {},
   "cell_type": "markdown",
   "metadata": {},
   "source": [
    "Fixed-point function\n",
    "\n",
    "$$g(x) = cos(x)$$"
   ]
  },
  {
   "cell_type": "code",
   "execution_count": 8,
   "metadata": {},
   "outputs": [],
   "source": [
    "def g(x):\n",
    "    return np.cos(x)"
   ]
  },
  {
   "attachments": {},
   "cell_type": "markdown",
   "metadata": {},
   "source": [
    "Aitken Linear Acceleration Algorithm"
   ]
  },
  {
   "cell_type": "code",
   "execution_count": 9,
   "metadata": {},
   "outputs": [],
   "source": [
    "def aitken(gFunc,x0,tol,maxIter=1e5):\n",
    "    #==================================================================\n",
    "    # INPUTS\n",
    "    #   - func: function handle\n",
    "    #   - dFunc: derivative function handle\n",
    "    #   - ddFunc: 2nd derivative function handle\n",
    "    #   - x0: initial guess\n",
    "    #   - tol: tolerance\n",
    "    #   - maxIter: maximum number of iterations before quitting\n",
    "    # OUTPUTS\n",
    "    #   - xNew: root caculated by this method\n",
    "    #   - iterations: array of iterations counted\n",
    "    #   - errors: array of errors corresponding to each iteration\n",
    "    #==================================================================\n",
    "\n",
    "    print('*** AITKEN METHOD ***')\n",
    "    \n",
    "    # declare variables\n",
    "    i = 1\n",
    "    iterations = []\n",
    "    errors = []\n",
    "\n",
    "    # initialize check condition as True to start the loop\n",
    "    condition = True\n",
    "\n",
    "    # loop as long as the absolute error is greater than the tolerance\n",
    "    while condition:\n",
    "        # force while loop to stop after a certain amount of iterations\n",
    "        if i > maxIter:\n",
    "            print(f'ERROR: Not Convergent within {maxIter} iterations')\n",
    "            break\n",
    "        \n",
    "        x1 = gFunc(x0)\n",
    "        x2 = gFunc(x1)\n",
    "\n",
    "        xNew = x0 - (x1-x0)**2 / (x2 - 2*x1 + x0)\n",
    "        x0 = xNew\n",
    "\n",
    "        # compute new absolute error\n",
    "        err = abs(xNew - x2)\n",
    "\n",
    "        # log iteration and error\n",
    "        iterations.append(i)\n",
    "        errors.append(err)\n",
    "        \n",
    "        # set new tolerance condition for the while loop to check\n",
    "        condition = err > tol\n",
    "\n",
    "        # increment iterator\n",
    "        i += 1\n",
    "\n",
    "    print(f'final x-value: {xNew}')\n",
    "    print(f'iterations: {i-1}')\n",
    "        \n",
    "    return xNew, iterations, errors"
   ]
  },
  {
   "attachments": {},
   "cell_type": "markdown",
   "metadata": {},
   "source": [
    "Test the algorithm and plot it"
   ]
  },
  {
   "cell_type": "code",
   "execution_count": 23,
   "metadata": {},
   "outputs": [
    {
     "name": "stdout",
     "output_type": "stream",
     "text": [
      "*** AITKEN METHOD ***\n",
      "final x-value: 0.7390851332151607\n",
      "iterations: 4\n"
     ]
    },
    {
     "data": {
      "image/png": "[encoded data removed]",
      "text/plain": [
       "<Figure size 640x480 with 1 Axes>"
      ]
     },
     "metadata": {},
     "output_type": "display_data"
    }
   ],
   "source": [
    "x0 = 0.5\n",
    "tol = 1e-6\n",
    "\n",
    "xNew, iterations, errors = aitken(g,x0,tol)\n",
    "\n",
    "plt.semilogy(iterations,errors)\n",
    "plt.xlabel('Iteration')\n",
    "plt.ylabel(r'Absolute Error $|\\epsilon_x|$')\n",
    "plt.title(f'Aitken Method Convergence, tol = {tol}')\n",
    "plt.show()"
   ]
  },
  {
   "cell_type": "code",
   "execution_count": 26,
   "metadata": {},
   "outputs": [
    {
     "name": "stdout",
     "output_type": "stream",
     "text": [
      "Convergence rate = 0\n"
     ]
    }
   ],
   "source": [
    "alpha = convergenceRate(errors)\n",
    "print(f'Convergence rate = {alpha}')"
   ]
  },
  {
   "attachments": {},
   "cell_type": "markdown",
   "metadata": {},
   "source": [
    "# Linear Error Propagation"
   ]
  },
  {
   "attachments": {},
   "cell_type": "markdown",
   "metadata": {},
   "source": [
    "Consider the function\n",
    "\n",
    "$$z(x,y) = 3x^{2} - xy^{2} + 10$$\n",
    "\n",
    "where the inputs $x$ and $y$ have the following expected values and standard deviations\n",
    "\n",
    "$$\\begin{bmatrix}\n",
    "    \\mu_{x} \\\\\n",
    "    \\mu_{y}\n",
    "\\end{bmatrix}\n",
    "=\n",
    "\\begin{bmatrix}\n",
    "    2 \\\\\n",
    "    3\n",
    "\\end{bmatrix}$$\n",
    "\n",
    "$$\\begin{bmatrix}\n",
    "    \\sigma_{x} \\\\\n",
    "    \\sigma_{y}\n",
    "\\end{bmatrix}\n",
    "=\n",
    "\\begin{bmatrix}\n",
    "    0.02 \\\\\n",
    "    0.01\n",
    "\\end{bmatrix}$$"
   ]
  },
  {
   "cell_type": "code",
   "execution_count": 11,
   "metadata": {},
   "outputs": [],
   "source": [
    "def z(x,y):\n",
    "    return 3*x**2 - x*y**2 + 10\n",
    "\n",
    "muX = 2\n",
    "muY = 3\n",
    "\n",
    "sigX = 0.02\n",
    "sigY = 0.01"
   ]
  },
  {
   "attachments": {},
   "cell_type": "markdown",
   "metadata": {},
   "source": [
    "Write functions to compute partial derivatives and to propgate the error"
   ]
  },
  {
   "cell_type": "code",
   "execution_count": 12,
   "metadata": {},
   "outputs": [],
   "source": [
    "def dzdx(x,y):\n",
    "    return 0\n",
    "\n",
    "def dzdy(x,y):\n",
    "    return 0\n",
    "\n",
    "def propagate_error():\n",
    "    return 0"
   ]
  },
  {
   "attachments": {},
   "cell_type": "markdown",
   "metadata": {},
   "source": [
    "Compute new mean and standard deviation"
   ]
  },
  {
   "cell_type": "code",
   "execution_count": 13,
   "metadata": {},
   "outputs": [
    {
     "name": "stdout",
     "output_type": "stream",
     "text": [
      "Mean of z(x): \n",
      "Standard deviation of z(x): \n"
     ]
    }
   ],
   "source": [
    "# muZ = ...\n",
    "# sigZ = ...\n",
    "\n",
    "print(f'Mean of z(x): ')\n",
    "print(f'Standard deviation of z(x): ')"
   ]
  },
  {
   "attachments": {},
   "cell_type": "markdown",
   "metadata": {},
   "source": [
    "# Linear Algebra and Matrix Properties"
   ]
  },
  {
   "attachments": {},
   "cell_type": "markdown",
   "metadata": {},
   "source": [
    "## Vector Properties and Operations"
   ]
  },
  {
   "attachments": {},
   "cell_type": "markdown",
   "metadata": {},
   "source": [
    "Given the vectors\n",
    "\n",
    "$a = \\begin{bmatrix} 2 \\\\ 3 \\\\ 5 \\end{bmatrix}, ~~~ b = \\begin{bmatrix} 6 \\\\ 1 \\\\ -2 \\end{bmatrix}$\n",
    "\n",
    "compute some simple vector operations"
   ]
  },
  {
   "cell_type": "code",
   "execution_count": 14,
   "metadata": {},
   "outputs": [],
   "source": [
    "a = np.array([2, 3, 5])\n",
    "b = np.array([6, 1, -2])"
   ]
  },
  {
   "attachments": {},
   "cell_type": "markdown",
   "metadata": {},
   "source": [
    "Addition/subtraction and scalar multiplication"
   ]
  },
  {
   "cell_type": "code",
   "execution_count": 15,
   "metadata": {},
   "outputs": [
    {
     "name": "stdout",
     "output_type": "stream",
     "text": [
      "a + b = \n",
      "a - b = \n",
      "\n",
      " 3a = \n",
      "-2b = \n"
     ]
    }
   ],
   "source": [
    "# addition/subtraction\n",
    "print(f'a + b = ')\n",
    "print(f'a - b = \\n')\n",
    "\n",
    "# scalar multiplication\n",
    "print(f' 3a = ')\n",
    "print(f'-2b = ')"
   ]
  },
  {
   "attachments": {},
   "cell_type": "markdown",
   "metadata": {},
   "source": [
    "Vector length (Euclidean norm) and units vector"
   ]
  },
  {
   "cell_type": "code",
   "execution_count": 16,
   "metadata": {},
   "outputs": [
    {
     "name": "stdout",
     "output_type": "stream",
     "text": [
      "Length of a: \n",
      "Length of b: \n",
      "\n",
      "Unit vector of a: \n",
      "Unit vector of b: \n"
     ]
    }
   ],
   "source": [
    "def vecLen(vec):\n",
    "    return 0\n",
    "\n",
    "print(f'Length of a: ')\n",
    "print(f'Length of b: \\n')\n",
    "\n",
    "print(f'Unit vector of a: ')\n",
    "print(f'Unit vector of b: ')"
   ]
  },
  {
   "attachments": {},
   "cell_type": "markdown",
   "metadata": {},
   "source": [
    "Dot (inner) product, cross product, and outer product"
   ]
  },
  {
   "cell_type": "code",
   "execution_count": 17,
   "metadata": {},
   "outputs": [
    {
     "name": "stdout",
     "output_type": "stream",
     "text": [
      "dot(a,b) = \n",
      "\n",
      "cross(a,b) = \n",
      "\n",
      "outer(a,b) = \n",
      "\n"
     ]
    }
   ],
   "source": [
    "# dot (inner) product\n",
    "print(f'dot(a,b) = \\n')\n",
    "\n",
    "# cross product\n",
    "print(f'cross(a,b) = \\n')\n",
    "\n",
    "# outer product\n",
    "print(f'outer(a,b) = \\n')"
   ]
  },
  {
   "attachments": {},
   "cell_type": "markdown",
   "metadata": {},
   "source": [
    "## Matrix Properties and Operations"
   ]
  },
  {
   "attachments": {},
   "cell_type": "markdown",
   "metadata": {},
   "source": [
    "Given the matrices\n",
    "\n",
    "$A = \\begin{bmatrix} 2 & 1 & -1 \\\\ 3 & 2 & 2 \\\\ 5 & -3 & 0 \\end{bmatrix}, ~~~ B = \\begin{bmatrix} 6 & 0 & -2 \\\\ 1 & 4 & 3 \\\\ -2 & 1 & 1 \\end{bmatrix}$\n",
    "\n",
    "compute some simple matrix operations"
   ]
  },
  {
   "cell_type": "code",
   "execution_count": 18,
   "metadata": {},
   "outputs": [],
   "source": [
    "A = np.array([[2,  1, -1],\n",
    "              [3,  2,  2],\n",
    "              [5, -3,  0]])\n",
    "\n",
    "B = np.array([[ 6, 0, -2],\n",
    "              [ 1, 4,  3],\n",
    "              [-2, 1,  1]])"
   ]
  },
  {
   "attachments": {},
   "cell_type": "markdown",
   "metadata": {},
   "source": [
    "Addition and multiplication"
   ]
  },
  {
   "cell_type": "code",
   "execution_count": 19,
   "metadata": {},
   "outputs": [
    {
     "name": "stdout",
     "output_type": "stream",
     "text": [
      "A + B = \n",
      "\n",
      "AB = \n",
      "\n"
     ]
    }
   ],
   "source": [
    "# addition\n",
    "print(f'A + B = \\n')\n",
    "\n",
    "# multiplication\n",
    "print(f'AB = \\n')"
   ]
  },
  {
   "attachments": {},
   "cell_type": "markdown",
   "metadata": {},
   "source": [
    "Transpose, inverse, trace, and determinant"
   ]
  },
  {
   "cell_type": "code",
   "execution_count": 20,
   "metadata": {},
   "outputs": [
    {
     "name": "stdout",
     "output_type": "stream",
     "text": [
      "Transpose of A = \n",
      "Transpose of AB = \n",
      "\n",
      "Inverse of A = \n",
      "Inverse of AB = \n",
      "\n",
      "tr(A) = \n",
      "tr(AB) = \n",
      "tr(BA) = \n",
      "\n",
      "Determinant of A = \n",
      "Determinant of B = \n",
      "Determinant of AB = \n"
     ]
    }
   ],
   "source": [
    "# transpose\n",
    "print(f'Transpose of A = ')\n",
    "print(f'Transpose of AB = \\n')\n",
    "\n",
    "# inverse\n",
    "print(f'Inverse of A = ')\n",
    "print(f'Inverse of AB = \\n')\n",
    "\n",
    "# trace\n",
    "print(f'tr(A) = ')\n",
    "print(f'tr(AB) = ')\n",
    "print(f'tr(BA) = \\n')\n",
    "\n",
    "# determinant\n",
    "print(f'Determinant of A = ')\n",
    "print(f'Determinant of B = ')\n",
    "print(f'Determinant of AB = ')"
   ]
  }
 ],
 "metadata": {
  "kernelspec": {
   "display_name": "aero222",
   "language": "python",
   "name": "python3"
  },
  "language_info": {
   "codemirror_mode": {
    "name": "ipython",
    "version": 3
   },
   "file_extension": ".py",
   "mimetype": "text/x-python",
   "name": "python",
   "nbconvert_exporter": "python",
   "pygments_lexer": "ipython3",
   "version": "3.9.16"
  },
  "orig_nbformat": 4,
  "vscode": {
   "interpreter": {
    "hash": "b311900854484dab44d5e82618872b9b11068ad3efc1ba231edd74e0a2ecdab9"
   }
  }
 },
 "nbformat": 4,
 "nbformat_minor": 2
}
