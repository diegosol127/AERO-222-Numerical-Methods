{
 "cells": [
  {
   "cell_type": "code",
   "execution_count": 61,
   "metadata": {},
   "outputs": [],
   "source": [
    "import numpy as np"
   ]
  },
  {
   "attachments": {},
   "cell_type": "markdown",
   "metadata": {},
   "source": [
    "# Linear Error Propagation"
   ]
  },
  {
   "attachments": {},
   "cell_type": "markdown",
   "metadata": {},
   "source": [
    "Given information:\n",
    "- function\n",
    "- mean\n",
    "- standard distribution"
   ]
  },
  {
   "cell_type": "code",
   "execution_count": 62,
   "metadata": {},
   "outputs": [],
   "source": [
    "def f(x,y):\n",
    "    return 3*x**2 - x*y**2 + 10\n",
    "\n",
    "muX = 2\n",
    "muY = 3\n",
    "\n",
    "sigX = 0.02\n",
    "sigY = 0.01"
   ]
  },
  {
   "attachments": {},
   "cell_type": "markdown",
   "metadata": {},
   "source": [
    "Write functions to compute partial derivatives and to propgate the error"
   ]
  },
  {
   "cell_type": "code",
   "execution_count": 63,
   "metadata": {},
   "outputs": [],
   "source": [
    "def dfdx(x,y):\n",
    "    return 2*x + y**2\n",
    "\n",
    "def dfdy(x,y):\n",
    "    return 2*x*y\n",
    "\n",
    "def propagate_error(dfdx,dfdy,muX,muY,sigX,sigY):\n",
    "    return np.sqrt((dfdx(muX,muY)*sigX)**2 + (dfdy(muX,muY)*sigY)**2)"
   ]
  },
  {
   "attachments": {},
   "cell_type": "markdown",
   "metadata": {},
   "source": [
    "Compute new mean and standard deviation"
   ]
  },
  {
   "cell_type": "code",
   "execution_count": 66,
   "metadata": {},
   "outputs": [
    {
     "name": "stdout",
     "output_type": "stream",
     "text": [
      "Mean of f(x): 4\n",
      "Standard deviation of f(x): 0.2863564212655271\n"
     ]
    }
   ],
   "source": [
    "muF = f(muX,muY)\n",
    "sigF = propagate_error(dfdx,dfdy,muX,muY,sigX,sigY)\n",
    "\n",
    "print(f'Mean of f(x): {muF}')\n",
    "print(f'Standard deviation of f(x): {sigF}')"
   ]
  }
 ],
 "metadata": {
  "kernelspec": {
   "display_name": "aero222",
   "language": "python",
   "name": "python3"
  },
  "language_info": {
   "codemirror_mode": {
    "name": "ipython",
    "version": 3
   },
   "file_extension": ".py",
   "mimetype": "text/x-python",
   "name": "python",
   "nbconvert_exporter": "python",
   "pygments_lexer": "ipython3",
   "version": "3.9.16"
  },
  "orig_nbformat": 4,
  "vscode": {
   "interpreter": {
    "hash": "b311900854484dab44d5e82618872b9b11068ad3efc1ba231edd74e0a2ecdab9"
   }
  }
 },
 "nbformat": 4,
 "nbformat_minor": 2
}
