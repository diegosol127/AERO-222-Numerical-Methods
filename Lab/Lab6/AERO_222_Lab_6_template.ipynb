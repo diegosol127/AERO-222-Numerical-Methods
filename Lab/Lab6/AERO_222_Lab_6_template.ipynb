{
 "cells": [
  {
   "attachments": {},
   "cell_type": "markdown",
   "metadata": {},
   "source": [
    "Import packages"
   ]
  },
  {
   "cell_type": "code",
   "execution_count": 2,
   "metadata": {},
   "outputs": [],
   "source": [
    "import numpy as np\n",
    "import matplotlib.pyplot as plt\n",
    "import numpy.random as rnd"
   ]
  },
  {
   "attachments": {},
   "cell_type": "markdown",
   "metadata": {},
   "source": [
    "# Interpolation vs Curve Fitting\n",
    "\n",
    "### Interpolation\n",
    "- Construct a curve that passes through all the data points\n",
    "- Implicit assumption that all points are accurate and distinct\n",
    "\n",
    "### Curve Fitting\n",
    "- Find a smooth curve that approximates the data\n",
    "- Applied to data that is scattered (contains noise or measurements aren't perfect)\n",
    "- The curve does not necessarily hit all the data points\n"
   ]
  },
  {
   "attachments": {},
   "cell_type": "markdown",
   "metadata": {},
   "source": [
    "Given the following data points, use the monomials and Lagrange polynomials to interpolate the data\n",
    "\n",
    "|    `x` |   0 |   1 |  -1 |   2 |  -2 |\n",
    "|    --- | --- | --- | --- | --- | --- |\n",
    "| `f(x)` |  -5 |  -3 | -15 |  39 |  -9 |"
   ]
  },
  {
   "cell_type": "code",
   "execution_count": 3,
   "metadata": {},
   "outputs": [],
   "source": [
    "data = np.array([[ 0,  1,  -1,  2, -2],\n",
    "                 [-5, -3, -15, 39, -9]], dtype=float)"
   ]
  },
  {
   "attachments": {},
   "cell_type": "markdown",
   "metadata": {},
   "source": [
    "# Monomial Interpolation"
   ]
  },
  {
   "attachments": {},
   "cell_type": "markdown",
   "metadata": {},
   "source": [
    "Define the monomial functions\n",
    "\n",
    "$$\\begin{align}\n",
    "    p_{0}(x) &= 1 \\nonumber \\\\\n",
    "    p_{1}(x) &= x \\nonumber \\\\\n",
    "    p_{2}(x) &= x^{2} \\nonumber \\\\\n",
    "    &\\vdots  \\nonumber \\\\\n",
    "    p_{n}(x) &= x^{n} \\nonumber \\\\\n",
    "\\end{align}$$\n",
    "\n",
    "Form the following system of equations to solve the interpolationg monomial function\n",
    "\n",
    "$$y =\n",
    "\n",
    "\\begin{bmatrix}\n",
    "    y_0 \\\\\n",
    "    y_1 \\\\\n",
    "    y_2 \\\\\n",
    "    \\vdots \\\\\n",
    "    y_n \\\\\n",
    "\\end{bmatrix}\n",
    "\n",
    "=\n",
    "\n",
    "\\begin{bmatrix}\n",
    "    1      & x_1    & x_1^2  & \\ldots & x_1^{n}\\\\\n",
    "    1      & x_2    & x_2^2  & \\ldots & x_2^{n}\\\\\n",
    "    1      & x_3    & x_3^2  & \\ldots & x_3^{n}\\\\\n",
    "    \\vdots & \\vdots & \\vdots & \\ddots & \\vdots   \\\\\n",
    "    1      & x_n    & x_n^2  & \\ldots & x_n^{n}\\\\\n",
    "\\end{bmatrix}\n",
    "\n",
    "\\begin{bmatrix}\n",
    "    c_0 \\\\\n",
    "    c_1 \\\\\n",
    "    c_2 \\\\\n",
    "    \\vdots \\\\\n",
    "    c_n \\\\\n",
    "\\end{bmatrix}$$"
   ]
  },
  {
   "cell_type": "code",
   "execution_count": 4,
   "metadata": {},
   "outputs": [],
   "source": [
    "def monomialPoly(data):\n",
    "    n = data.shape[1]\n",
    "\n",
    "    M = []\n",
    "    for i in range(n):\n",
    "        def poly(x,i=i):\n",
    "            return x**i\n",
    "        M.append(poly)\n",
    "    return M\n",
    "\n",
    "def interpMonomial(x,data):\n",
    "    n = data.shape[1]\n",
    "\n",
    "    M = monomialPoly(data)\n",
    "\n",
    "    V = np.zeros([n,n])\n",
    "    f = np.zeros([n,1])\n",
    "    for i in range(n):\n",
    "        P = []\n",
    "        for j in range(n):\n",
    "            P.append(M[j](data[0,i]))\n",
    "        V[i,:] = P\n",
    "        f[i] = data[1,i]\n",
    "\n",
    "    c = np.linalg.solve(V,f)\n",
    "\n",
    "    sum = 0\n",
    "    for i in range(n):\n",
    "        sum += c[i]*x**i\n",
    "    \n",
    "    return sum"
   ]
  },
  {
   "attachments": {},
   "cell_type": "markdown",
   "metadata": {},
   "source": [
    "Plot the interpolated curve passing through the data points"
   ]
  },
  {
   "cell_type": "code",
   "execution_count": 19,
   "metadata": {},
   "outputs": [
    {
     "data": {
      "image/png": "[encoded data removed]",
      "text/plain": [
       "<Figure size 640x480 with 1 Axes>"
      ]
     },
     "metadata": {},
     "output_type": "display_data"
    }
   ],
   "source": [
    "x = np.linspace(-2,2,100)\n",
    "\n",
    "plt.plot(data[0,0],data[1,0],'rd',label='data points')\n",
    "for i in range(1,data.shape[1]):\n",
    "    plt.plot(data[0,i],data[1,i],'rd')\n",
    "plt.xlabel('x')\n",
    "plt.ylabel('P(x)')\n",
    "plt.title('Monomial Interpolation')\n",
    "plt.legend()\n",
    "plt.show()"
   ]
  },
  {
   "attachments": {},
   "cell_type": "markdown",
   "metadata": {},
   "source": [
    "Plot the monomial basis"
   ]
  },
  {
   "cell_type": "code",
   "execution_count": 6,
   "metadata": {},
   "outputs": [],
   "source": [
    "# M = monomialPoly(data)\n",
    "# for i in range(data.shape[1]):\n",
    "#     plt.plot(x,M[i](x),label=fr'$p_{i}$')\n",
    "# plt.xlabel('x')\n",
    "# plt.ylabel('f(x)')\n",
    "# plt.title('Monomial basis')\n",
    "# plt.legend()\n",
    "# plt.show()"
   ]
  },
  {
   "attachments": {},
   "cell_type": "markdown",
   "metadata": {},
   "source": [
    "# Lagrange Interpolation"
   ]
  },
  {
   "attachments": {},
   "cell_type": "markdown",
   "metadata": {},
   "source": [
    "Define the Lagrange interpolation function, $L(x)$\n",
    "\n",
    "$$L(x) = \\sum_{i=1}^{n} \\ell_{i}(x)~y_{i}, ~~~~~ \\ell_{i}(x) = \\prod_{\\substack{j=1 \\\\ i\\neq j}}^{n} \\frac{x-x_{j}}{x_{i} - x_{j}}$$"
   ]
  },
  {
   "cell_type": "code",
   "execution_count": 7,
   "metadata": {},
   "outputs": [],
   "source": [
    "def lagrangePoly(data):\n",
    "    n = data.shape[1]\n",
    "    L = []\n",
    "\n",
    "    for i in range(n):\n",
    "\n",
    "        def lagrange(x,i=i):\n",
    "            prod = 1\n",
    "            for j in range(n):\n",
    "                if j != i:\n",
    "                    prod *= (x - data[0,j]) / (data[0,i] - data[0,j])\n",
    "            return prod\n",
    "        \n",
    "        L.append(lagrange)\n",
    "    \n",
    "    return L\n",
    "\n",
    "def interpLagrange(x,data):\n",
    "    n = data.shape[1]\n",
    "    L = lagrangePoly(data)\n",
    "\n",
    "    sum = 0\n",
    "    for i in range(n):\n",
    "        sum += data[1,i] * L[i](x)\n",
    "\n",
    "    return sum"
   ]
  },
  {
   "cell_type": "markdown",
   "metadata": {},
   "source": [
    "Plot the interpolated curve passing through the data points"
   ]
  },
  {
   "cell_type": "code",
   "execution_count": 20,
   "metadata": {},
   "outputs": [
    {
     "data": {
      "image/png": "[encoded data removed]",
      "text/plain": [
       "<Figure size 640x480 with 1 Axes>"
      ]
     },
     "metadata": {},
     "output_type": "display_data"
    }
   ],
   "source": [
    "data = np.array([[ 0,  1,  -1,  2, -2],\n",
    "                 [-5, -3, -15, 39, -9]], dtype=float)\n",
    "\n",
    "x = np.linspace(-2,2,100)\n",
    "\n",
    "plt.plot(data[0,0],data[1,0],'rd',label='data points')\n",
    "for i in range(1,data.shape[1]):\n",
    "    plt.plot(data[0,i],data[1,i],'rd')\n",
    "plt.xlabel('x')\n",
    "plt.ylabel('L(x)')\n",
    "plt.title('Lagrange Interpolation')\n",
    "plt.legend()\n",
    "plt.show()"
   ]
  },
  {
   "attachments": {},
   "cell_type": "markdown",
   "metadata": {},
   "source": [
    "Plot the Lagrange basis"
   ]
  },
  {
   "cell_type": "code",
   "execution_count": 9,
   "metadata": {},
   "outputs": [],
   "source": [
    "# L = lagrangePoly(data)\n",
    "# for i in range(data.shape[1]):\n",
    "#     plt.plot(x,L[i](x),label=fr'$L_{i}$')\n",
    "# plt.xlabel('x')\n",
    "# plt.ylabel('f(x)')\n",
    "# plt.title('Lagrange basis')\n",
    "# plt.legend()\n",
    "# plt.show()"
   ]
  },
  {
   "attachments": {},
   "cell_type": "markdown",
   "metadata": {},
   "source": [
    "# Least-Squares Fit\n",
    "\n",
    "Data obtained from experiments can contain a significant amount of random noise. We may wish to find a smooth curve that fits the data points on average. Ideally this curve should have a simple form (such as a low-order polynomial), so as to not reproduce the noise.\n",
    "\n",
    "Consider the following function that will be used to fit a data set\n",
    "\n",
    "$$\\hat{Y}(x) = \\hat{Y}(x;a_{1},a_{2},\\ldots,a_{m}) = a_{1}f_{1}(x) + a_{2}f_{2}(x) + \\ldots + a_{m}f_{m}(x)$$\n",
    "\n",
    "where $a_{0}, a_{1}, \\ldots, a_{m}$ are variable paramters. The data set consists of the points\n",
    "\n",
    "$$(x_{1},y_{1}),~(x_{2},y_{2}),\\ldots(x_{n},y_{n})$$\n",
    "\n",
    "where $m < n$. The form of $F(x)$ is determined beforehand, ususally from the theory associated with the experiment from which the data was obtained. Therefore, the only means of adjusting the fit are the parameters themselves. The estimation of the data at each data point $x_{i}$ for is shown as\n",
    "\n",
    "$$\\begin{align}\n",
    "    \\hat{y}(x_{1}) &= a_{1}f_{1}(x_{1}) + a_{2}f_{2}(x_{1}) + \\ldots + a_{m}f_{m}(x_{1}) \\nonumber \\\\\n",
    "    \\hat{y}(x_{2}) &= a_{1}f_{1}(x_{2}) + a_{2}f_{2}(x_{2}) + \\ldots + a_{m}f_{m}(x_{2}) \\nonumber \\\\\n",
    "    &\\vdots \\nonumber \\\\\n",
    "    \\hat{y}(x_{n}) &= a_{1}f_{1}(x_{n}) + a_{2}f_{2}(x_{n}) + \\ldots + a_{m}f_{m}(x_{n}) \\nonumber \\\\\n",
    "\\end{align}$$\n",
    "\n",
    "In other words,\n",
    "\n",
    "\n",
    "$$y \\approx \\hat{y} = Ax ~~~\\implies~~~\n",
    "\n",
    "\\begin{bmatrix}\n",
    "    y_1 \\\\\n",
    "    y_2 \\\\\n",
    "    \\vdots \\\\\n",
    "    y_n\n",
    "\\end{bmatrix}\n",
    "\n",
    "\\approx\n",
    "\n",
    "\\begin{bmatrix}\n",
    "    \\hat{y}_1 \\\\\n",
    "    \\hat{y}_2 \\\\\n",
    "    \\vdots \\\\\n",
    "    \\hat{y}_n\n",
    "\\end{bmatrix}\n",
    "\n",
    "=\n",
    "\n",
    "\\begin{bmatrix}\n",
    "    f_{1}(x_{1}) & f_{2}(x_{1}) & \\ldots & f_{m}(x_{1})\\\\\n",
    "    f_{1}(x_{2}) & f_{2}(x_{2}) & \\ldots & f_{m}(x_{2})\\\\\n",
    "    \\vdots       &      \\vdots  & \\ddots &       \\vdots\\\\\n",
    "    f_{1}(x_{n}) & f_{2}(x_{n}) & \\ldots & f_{m}(x_{n})\\\\\n",
    "\\end{bmatrix}\n",
    "\n",
    "\\begin{bmatrix}\n",
    "    a_{1} \\\\\n",
    "    a_{2} \\\\\n",
    "    \\vdots \\\\\n",
    "    a_{m} \\\\\n",
    "\\end{bmatrix}$$\n",
    "\n",
    "The least-squares prolem seeks accomplish the following optimization problem\n",
    "\n",
    "$$min \\sum_{i=1}^{n}\\left(y_{i} - \\hat{y}_{i}\\right)^{2}$$\n",
    "\n",
    "The solution to this least-squares problem is\n",
    "\n",
    "$$\\boxed{x = \\left(A^{T}A\\right)^{-1}A^{T}y}$$"
   ]
  },
  {
   "attachments": {},
   "cell_type": "markdown",
   "metadata": {},
   "source": [
    "# Linear Regression\n",
    "\n",
    "Consider $F$ as a family of polynomial functions. \n",
    "\n",
    "$$F = \n",
    "\n",
    "\\begin{bmatrix}\n",
    "    1      & x_{1}   & \\ldots & x_{1}^{m-1}\\\\\n",
    "    1      & x_{2}   & \\ldots & x_{2}^{m-1}\\\\\n",
    "    \\vdots & \\vdots  & \\ddots &    \\vdots\\\\\n",
    "    1      & x_{n}   & \\ldots & x_{n}^{m-1}\\\\\n",
    "\\end{bmatrix}$$\n",
    "\n",
    "Linear regression is the simplest example of curve fitting with polynomial functions. In this case, we only consider the first two columns of the above matrix to get a system of equations of the form\n",
    "\n",
    "$$\\begin{bmatrix}\n",
    "    y_1 \\\\\n",
    "    y_2 \\\\\n",
    "    \\vdots \\\\\n",
    "    y_n\n",
    "\\end{bmatrix}\n",
    "\n",
    "=\n",
    "\n",
    "\\begin{bmatrix}\n",
    "    1      & x_{1} \\\\\n",
    "    1      & x_{2} \\\\\n",
    "    \\vdots & \\vdots  \\\\\n",
    "    1      & x_{n} \\\\\n",
    "\\end{bmatrix}\n",
    "\n",
    "\\begin{bmatrix}\n",
    "    a_{1} \\\\\n",
    "    a_{2} \\\\\n",
    "\\end{bmatrix}$$"
   ]
  },
  {
   "attachments": {},
   "cell_type": "markdown",
   "metadata": {},
   "source": [
    "Try an example"
   ]
  },
  {
   "cell_type": "code",
   "execution_count": 18,
   "metadata": {},
   "outputs": [
    {
     "data": {
      "image/png": "[encoded data removed]",
      "text/plain": [
       "<Figure size 640x480 with 1 Axes>"
      ]
     },
     "metadata": {},
     "output_type": "display_data"
    }
   ],
   "source": [
    "# generate x and y data\n",
    "x = np.linspace(0,1,100)\n",
    "y = 1 + x + x*np.random.random(len(x))\n",
    "\n",
    "\n",
    "# plot\n",
    "plt.plot(x,y,'r.',label='data points')\n",
    "plt.xlabel('x')\n",
    "plt.ylabel('y')\n",
    "plt.title('Linear Regression')\n",
    "plt.legend()\n",
    "plt.show()"
   ]
  },
  {
   "attachments": {},
   "cell_type": "markdown",
   "metadata": {},
   "source": [
    "# Practice Problem\n",
    "\n",
    "Consider the following data set\n",
    "\n",
    "<!-- |    `x` |   5 |  -2 |  -3 |   6 |   8 |  -5 |   2 |   3 |   0 |  -8 |\n",
    "|    --- | --- | --- | --- | --- | --- | --- | --- | --- | --- | --- |\n",
    "| `f(x)` |   1 |  -2 |  -5 |  -3 |   9 |   7 |  -7 |   6 |  10 |  -9 | -->\n",
    "\n",
    "|    `x` |   5 |  -2 |  -7 |   6 |\n",
    "|    --- | --- | --- | --- | --- |\n",
    "| `f(x)` |   1 |  -2 |  -5 |  -3 |\n",
    "\n",
    "**Do the following problems**\n",
    "\n",
    "  **a)** Interpolate the data points using Lagrange interpoolation\n",
    "\n",
    "  **b)** Fit a quadratic curve to this data set"
   ]
  }
 ],
 "metadata": {
  "kernelspec": {
   "display_name": "aero222",
   "language": "python",
   "name": "python3"
  },
  "language_info": {
   "codemirror_mode": {
    "name": "ipython",
    "version": 3
   },
   "file_extension": ".py",
   "mimetype": "text/x-python",
   "name": "python",
   "nbconvert_exporter": "python",
   "pygments_lexer": "ipython3",
   "version": "3.9.16"
  },
  "orig_nbformat": 4,
  "vscode": {
   "interpreter": {
    "hash": "b311900854484dab44d5e82618872b9b11068ad3efc1ba231edd74e0a2ecdab9"
   }
  }
 },
 "nbformat": 4,
 "nbformat_minor": 2
}
