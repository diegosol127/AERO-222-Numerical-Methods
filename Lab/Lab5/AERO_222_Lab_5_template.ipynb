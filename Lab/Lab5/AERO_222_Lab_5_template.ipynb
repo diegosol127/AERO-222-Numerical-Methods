{
 "cells": [
  {
   "attachments": {},
   "cell_type": "markdown",
   "metadata": {},
   "source": [
    "Import libraries"
   ]
  },
  {
   "cell_type": "code",
   "execution_count": 443,
   "metadata": {},
   "outputs": [],
   "source": [
    "import numpy as np"
   ]
  },
  {
   "attachments": {},
   "cell_type": "markdown",
   "metadata": {},
   "source": [
    "# Agenda\n",
    "\n",
    "- Homework 1 review\n",
    "- Scaled partial pivoting\n",
    "- Gauss-Jordan\n",
    "- Jacobi iterative method"
   ]
  },
  {
   "attachments": {},
   "cell_type": "markdown",
   "metadata": {},
   "source": [
    "# Gauss Elimination - Scaled Partial Pivoting\n",
    "\n",
    "When applying Gauss elimination, the are a couple of pitfalls we need to consider:\n",
    "- Division by zero\n",
    "- Round-off error\n",
    "\n",
    "Sometimes the order in which the equations are presented have a profound effect on the results. Consider the following augmented coefficient matrix whose solution is $x_1 = x_2 = x_3 = 1$\n",
    "\n",
    "$$\\left[\n",
    "  \\begin{matrix}\n",
    "      2  & -1 & 0  \\\\\n",
    "      -1 & 2  & -1 \\\\\n",
    "      0  & -1 & 1  \\\\\n",
    "  \\end{matrix}\n",
    "\\left|\n",
    "  \\,\n",
    "  \\begin{matrix}\n",
    "    1    \\\\\n",
    "    0    \\\\\n",
    "    0    \\\\\n",
    "  \\end{matrix}\n",
    "\\right.\n",
    "\\right]\n",
    "$$\n",
    "\n",
    "If we swap the first and last row, we can see the issue with solving this system using Gaussian elimination: the first scaling factor is zero.\n",
    "\n",
    "$$\\left[\n",
    "  \\begin{matrix}\n",
    "      0  & -1 & 1  \\\\\n",
    "      -1 & 2  & -1 \\\\\n",
    "      2  & -1 & 0  \\\\\n",
    "  \\end{matrix}\n",
    "\\left|\n",
    "  \\,\n",
    "  \\begin{matrix}\n",
    "    0    \\\\\n",
    "    0    \\\\\n",
    "    1    \\\\\n",
    "  \\end{matrix}\n",
    "\\right.\n",
    "\\right]\n",
    "$$\n",
    "\n",
    "This kind of situation can lead to numerical errors, even if the first index isn't zero. Let's see what happens in this case if we replace zero with an extremely small number, $\\varepsilon$. Then let's compute a round of elimination.\n",
    "\n",
    "$$\\left[\n",
    "  \\begin{matrix}\n",
    "      \\varepsilon  & -1 & 1  \\\\\n",
    "      -1           & 2  & -1 \\\\\n",
    "      2            & -1 & 0  \\\\\n",
    "  \\end{matrix}\n",
    "\\left|\n",
    "  \\,\n",
    "  \\begin{matrix}\n",
    "    0    \\\\\n",
    "    0    \\\\\n",
    "    1    \\\\\n",
    "  \\end{matrix}\n",
    "\\right.\n",
    "\\right]\n",
    "\n",
    "\\implies\n",
    "\n",
    "\\left[\n",
    "  \\begin{matrix}\n",
    "      \\varepsilon  & -1                 & 1                  \\\\\n",
    "      0            & 2 - 1/\\varepsilon  & -1 + 1/\\varepsilon \\\\\n",
    "      0            & -1 + 2/\\varepsilon & -2/\\varepsilon     \\\\\n",
    "  \\end{matrix}\n",
    "\\left|\n",
    "  \\,\n",
    "  \\begin{matrix}\n",
    "    0    \\\\\n",
    "    0    \\\\\n",
    "    1    \\\\\n",
    "  \\end{matrix}\n",
    "\\right.\n",
    "\\right]\n",
    "$$\n",
    "\n",
    "Since the computer works with a fixed word length, all numbers are rounded off to a finite number of significant figures. If $\\varepsilon$ is very small, then $1/\\varepsilon$ is huge and will dominate smaller numbers like in our matrix here. For sufficiently small values of $\\varepsilon$, the system of equations at this step is stored as\n",
    "\n",
    "$$\\left[\n",
    "  \\begin{matrix}\n",
    "      \\varepsilon  & -1            & 1              \\\\\n",
    "      0            & -1/\\varepsilon & 1/\\varepsilon  \\\\\n",
    "      0            & 2/\\varepsilon & -2/\\varepsilon \\\\\n",
    "  \\end{matrix}\n",
    "\\left|\n",
    "  \\,\n",
    "  \\begin{matrix}\n",
    "    0    \\\\\n",
    "    0    \\\\\n",
    "    1    \\\\\n",
    "  \\end{matrix}\n",
    "\\right.\n",
    "\\right]$$\n",
    "\n",
    "Here we can immendiately see that this matrix, which originally had a unique solution, is now singular and cannot be solved."
   ]
  },
  {
   "cell_type": "code",
   "execution_count": 444,
   "metadata": {},
   "outputs": [],
   "source": [
    "# Gauss elimination\n",
    "def gaussElim(M,v):\n",
    "    n = v.size\n",
    "\n",
    "    A = np.array(M,dtype=float)\n",
    "    b = np.array(v,dtype=float)\n",
    "    x = np.zeros(n)\n",
    "\n",
    "    # Elimination Step\n",
    "    for col in range(0,n-1):\n",
    "        for row in range(col+1,n):\n",
    "\n",
    "            if A[col,col] == 0.0:\n",
    "                print('ERROR: divide by zero')\n",
    "                break\n",
    "\n",
    "            m = A[row,col]/A[col,col]\n",
    "            A[row,:] = A[row,:]-m*A[col,:]\n",
    "            b[row] = b[row]-m*b[col]\n",
    "\n",
    "    # Back substitution\n",
    "    x[n-1] = b[n-1]/A[n-1,n-1]\n",
    "    for row in range(n-2,-1,-1):\n",
    "\n",
    "        sum = 0\n",
    "        for col in range(row+1,n):\n",
    "            sum = sum + A[row,col]*x[col]\n",
    "\n",
    "        x[row] = (b[row] - sum) / A[row,row]\n",
    "\n",
    "    return x"
   ]
  },
  {
   "attachments": {},
   "cell_type": "markdown",
   "metadata": {},
   "source": [
    "Modify the Gauss elimination function to handle scaled partial pivoting"
   ]
  },
  {
   "cell_type": "code",
   "execution_count": 445,
   "metadata": {},
   "outputs": [],
   "source": [
    "# Gauss elimination with scaled partial pivoting \n",
    "def gaussElimPivotScale(M,v):\n",
    "    n = v.size\n",
    "\n",
    "    A = np.array(M,dtype=float)\n",
    "    b = np.array(v,dtype=float)\n",
    "    x = np.zeros(n)\n",
    "\n",
    "    ###############\n",
    "    # ENTER CODE HERE\n",
    "    ###############\n",
    "\n",
    "    # Elimination Step\n",
    "    for col in range(0,n-1):\n",
    "        # eliminate entries below the pivot\n",
    "        for row in range(col+1,n):\n",
    "            if A[col,col] == 0.0:\n",
    "                print('ERROR: divide by zero')\n",
    "                break\n",
    "\n",
    "            m = A[row,col]/A[col,col]\n",
    "            A[row,:] = A[row,:]-m*A[col,:]\n",
    "            b[row] = b[row]-m*b[col]\n",
    "\n",
    "    # Back substitution\n",
    "    x[n-1] = b[n-1]/A[n-1,n-1]\n",
    "    for row in range(n-2,-1,-1):\n",
    "\n",
    "        sum = 0\n",
    "        for col in range(row+1,n):\n",
    "            sum = sum + A[row,col]*x[col]\n",
    "\n",
    "        x[row] = (b[row] - sum) / A[row,row]\n",
    "        \n",
    "    return x"
   ]
  },
  {
   "attachments": {},
   "cell_type": "markdown",
   "metadata": {},
   "source": [
    "Compare results and compute the residual and $L^{2}$-normed residuals\n",
    "\n",
    "$$\\varepsilon = |Ax - b|$$\n",
    "\n",
    "$$||\\varepsilon|| = ||Ax - b||$$"
   ]
  },
  {
   "cell_type": "code",
   "execution_count": 446,
   "metadata": {},
   "outputs": [
    {
     "name": "stdout",
     "output_type": "stream",
     "text": [
      "[6.05359686e-12 2.23517418e-07 1.23335311e+00]\n",
      "1.2333531118929588 \n",
      "\n",
      "[6.05359686e-12 0.00000000e+00 6.49292022e-04]\n",
      "0.0006492920219898224\n"
     ]
    }
   ],
   "source": [
    "A = np.array([[    1,     -7e12,      1],\n",
    "              [-3000, 2.0000023,      6],\n",
    "              [ 5e10,        -1,  0.001]], dtype=float)\n",
    "\n",
    "b = np.array([6e-3, 3e6, -2e7], dtype=float)"
   ]
  },
  {
   "attachments": {},
   "cell_type": "markdown",
   "metadata": {},
   "source": [
    "# Gauss-Jordan Elimination\n",
    "\n",
    "Work out the following linear system of equations using the Gauss-Jordan method:\n",
    "\n",
    "$\\begin{align}\n",
    "    2x + y + 2z &= 10 \\nonumber  \\\\\n",
    "    x + 2y + z &= 8 \\nonumber  \\\\\n",
    "    3x + y - 1z &= 2 \\nonumber \\\\\n",
    "\\end{align}$"
   ]
  },
  {
   "cell_type": "code",
   "execution_count": 447,
   "metadata": {},
   "outputs": [],
   "source": [
    "def gauss_jordan(A, b):\n",
    "    n = A.shape[0]\n",
    "    Ab = np.concatenate((A, b.reshape(n, 1)), axis=1)\n",
    "\n",
    "    # iterate over each column\n",
    "    for col in range(n):\n",
    "        \n",
    "        # partial pivoting\n",
    "        pivot_row = col\n",
    "        for i in range(col + 1, n):\n",
    "            if abs(Ab[i][col]) > abs(Ab[pivot_row][col]):\n",
    "                pivot_row = i\n",
    "        Ab[[col, pivot_row]] = Ab[[pivot_row, col]]\n",
    "        \n",
    "        # divide the pivot row by the pivot\n",
    "        pivot = Ab[col][col]\n",
    "        Ab[col] /= pivot\n",
    "        \n",
    "        # subtract multiples of the pivot row from all other rows\n",
    "        for row in range(n):\n",
    "            if row == col:\n",
    "                continue\n",
    "            factor = Ab[row][col]\n",
    "            Ab[row] -= factor * Ab[col]\n",
    "    \n",
    "    # extract the solution vector from the augmented matrix\n",
    "    x = Ab[:, n]\n",
    "    \n",
    "    return x\n"
   ]
  },
  {
   "cell_type": "code",
   "execution_count": 448,
   "metadata": {},
   "outputs": [
    {
     "name": "stdout",
     "output_type": "stream",
     "text": [
      "[1. 2. 3.]\n"
     ]
    }
   ],
   "source": [
    "A = np.array([[2, 1, 2],\n",
    "              [1, 2, 1],\n",
    "              [3, 1, -1]], dtype=float)\n",
    "\n",
    "b = np.array([10, 8, 2],dtype=float)"
   ]
  },
  {
   "attachments": {},
   "cell_type": "markdown",
   "metadata": {},
   "source": [
    "# Jacobi Iterative Method"
   ]
  },
  {
   "attachments": {},
   "cell_type": "markdown",
   "metadata": {},
   "source": [
    "For a linear system of equations defined by a diagonally dominant coefficient matrix, $A$, the following iterative process will converge to a solution:\n",
    "\n",
    "$$x_{k+1} = D^{-1}(b - Ox_{k})$$\n",
    "\n",
    "where $D$ and $O$ are the diagonal and off-diagonal matrices of $A$, respectively.\n",
    "\n",
    "$$D = \\begin{bmatrix}\n",
    "a_{11} & 0 & 0 \\\\\n",
    "0 & a_{22} & 0 \\\\ \n",
    "0 & 0 & a_{33} \\\\ \n",
    "\\end{bmatrix},\n",
    "\n",
    " ~~~ \n",
    "\n",
    "O = \\begin{bmatrix}\n",
    "0 & a_{12} & a_{13} \\\\\n",
    "a_{21} & 0 & a_{23} \\\\ \n",
    "a_{31} & a_{32} & 0 \\\\ \n",
    "\\end{bmatrix}$$"
   ]
  },
  {
   "cell_type": "code",
   "execution_count": 449,
   "metadata": {},
   "outputs": [],
   "source": [
    "def jacobi():\n",
    "    return 0"
   ]
  },
  {
   "cell_type": "code",
   "execution_count": 451,
   "metadata": {},
   "outputs": [
    {
     "name": "stdout",
     "output_type": "stream",
     "text": [
      "[1.26086957 0.56521739 1.39130435]\n",
      "[9.66045022e-11 1.60143898e-10 8.83018103e-11]\n"
     ]
    }
   ],
   "source": [
    "A = np.array([[4, 1, 1],\n",
    "              [3, 5, 1],\n",
    "              [1, 1, 3]])\n",
    "\n",
    "b = np.array([7, 8, 6])"
   ]
  },
  {
   "attachments": {},
   "cell_type": "markdown",
   "metadata": {},
   "source": [
    "# Practice Problem\n",
    "\n",
    "Work out the following linear system of equations by hand using the Gauss-Jordan method. Then compare the results to your code for both Gauss-Jordan and Jacobi iterative method.\n",
    "\n",
    "$\\begin{align}\n",
    "    2x + 6y - 2z &= 7 \\nonumber  \\\\\n",
    "    x + 2y + 5z &= 5 \\nonumber  \\\\\n",
    "    11x - 4y + 8z &= 3 \\nonumber \\\\\n",
    "\\end{align}$"
   ]
  }
 ],
 "metadata": {
  "kernelspec": {
   "display_name": "aero222",
   "language": "python",
   "name": "python3"
  },
  "language_info": {
   "codemirror_mode": {
    "name": "ipython",
    "version": 3
   },
   "file_extension": ".py",
   "mimetype": "text/x-python",
   "name": "python",
   "nbconvert_exporter": "python",
   "pygments_lexer": "ipython3",
   "version": "3.9.16"
  },
  "orig_nbformat": 4,
  "vscode": {
   "interpreter": {
    "hash": "b311900854484dab44d5e82618872b9b11068ad3efc1ba231edd74e0a2ecdab9"
   }
  }
 },
 "nbformat": 4,
 "nbformat_minor": 2
}
