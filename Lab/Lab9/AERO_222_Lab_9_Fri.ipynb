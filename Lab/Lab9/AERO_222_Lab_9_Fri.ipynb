{
 "cells": [
  {
   "cell_type": "code",
   "execution_count": 1,
   "metadata": {},
   "outputs": [],
   "source": [
    "import numpy as np\n",
    "import matplotlib.pyplot as plt"
   ]
  },
  {
   "attachments": {},
   "cell_type": "markdown",
   "metadata": {},
   "source": [
    "# Numerical Differentiation\n",
    "\n",
    "Often times, we will want to calcaulte the derivative of a function or data set without needing to solve it analytically. We will explore various methods for numerically computing derivatives."
   ]
  },
  {
   "attachments": {},
   "cell_type": "markdown",
   "metadata": {},
   "source": [
    "## Finite Difference Approximations\n",
    "\n",
    "The first derivative at $x$ is defined by using limits as\n",
    "\n",
    "$$f'(x) = \\frac{df(x)}{dx} = \\displaystyle{\\lim_{\\Delta x \\to 0}} \\frac{\\Delta f(x)}{\\Delta x}$$\n",
    "\n",
    "Numerically, $\\Delta x$ cannot be infinitesimal, so it should be finite and the solution becomes approximate:\n",
    "\n",
    "$$f'(x) \\approx \\frac{f(x + \\Delta x) - f(x)}{\\Delta x}$$\n",
    "\n",
    "Discretize the inputs and let\n",
    "\n",
    "$$x_i = x, ~~~~~ h = \\Delta x, ~~~~~ x_{i+1} = x + h, ~~~~~ x_{i-1} = x - h$$\n",
    "\n",
    "We can approximate the derivative at $x_i$ by either taking a small step forward or backward.\n",
    "\n",
    "$$\\textbf{Forward Difference}: ~~~~~ f'(x_i) \\approx \\frac{f(x_{i+1}) - f(x_i)}{h}$$\n",
    "$$\\textbf{Backward Difference}: ~~~~~ f'(x_i) \\approx \\frac{f(x_i) - f(x_{i-1})}{h}$$\n",
    "\n",
    "By utilizing these difference methods, we can also compute the second derivative. Let the **second derivative** be computed using the *forward difference* approach\n",
    "\n",
    "$$f''(x_i) \\approx \\frac{f'(x_{i+1}) - f'(x_i)}{h}$$\n",
    "\n",
    "Compute the first derivatives in this equation using *backward difference*\n",
    "\n",
    "$$f'(x_{i+1}) \\approx \\frac{f(x_{i+1}) - f(x_i)}{h}, ~~~~~ f'(x_{i}) \\approx \\frac{f(x_i) - f(x_{i-1})}{h}$$\n",
    "\n",
    "Substituting these equations in we get\n",
    "\n",
    "$$\\textbf{Central Difference}: ~~~~~ f''(x_i) \\approx \\frac{1}{h}\\left[\\frac{f(x_{i+1}) - f(x_i)}{h} - \\frac{f(x_i) - f(x_{i-1})}{h}\\right] = \\frac{f(x_{i+1}) - 2f(x_i) + f(x_{i-1})}{h^2}$$"
   ]
  },
  {
   "attachments": {},
   "cell_type": "markdown",
   "metadata": {},
   "source": [
    "## Example: Forward and backward Difference\n",
    "\n",
    "Compute the forawrd and backward differences at each of the following data points:\n",
    "\n",
    "$$x = \\begin{bmatrix}\n",
    "3 \\\\ \n",
    "7 \\\\ \n",
    "11 \\\\ \n",
    "15\n",
    "\\end{bmatrix}, ~~~~~\n",
    "y = \\begin{bmatrix}\n",
    "7 \\\\ \n",
    "6 \\\\ \n",
    "9 \\\\ \n",
    "6\n",
    "\\end{bmatrix}$$"
   ]
  },
  {
   "cell_type": "code",
   "execution_count": 8,
   "metadata": {},
   "outputs": [
    {
     "name": "stdout",
     "output_type": "stream",
     "text": [
      "FORWARD DIFFERENCE\n",
      "df at x = 3.0: -0.25\n",
      "df at x = 7.0: 0.75\n",
      "df at x = 11.0: -0.75\n",
      "\n",
      "BACKWARD DIFFERENCE\n",
      "df at x = 7.0: -0.25\n",
      "df at x = 11.0: 0.75\n",
      "df at x = 15.0: -0.75\n"
     ]
    },
    {
     "data": {
      "image/png": "[encoded data removed]",
      "text/plain": [
       "<Figure size 640x480 with 1 Axes>"
      ]
     },
     "metadata": {},
     "output_type": "display_data"
    }
   ],
   "source": [
    "x = np.array([3,7,11,15],dtype=float)\n",
    "y = np.array([7,6,9,6],dtype=float)\n",
    "h = 4\n",
    "\n",
    "# forward difference\n",
    "print('FORWARD DIFFERENCE')\n",
    "for i in range(len(x)-1):\n",
    "    fDiff = (y[i+1] - y[i]) / h\n",
    "    print(f'df at x = {x[i]}: {fDiff}')\n",
    "\n",
    "# backward difference\n",
    "print('\\nBACKWARD DIFFERENCE')\n",
    "for i in range(1,len(x)):\n",
    "    bDiff = (y[i] - y[i-1]) / h\n",
    "    print(f'df at x = {x[i]}: {bDiff}')\n",
    "\n",
    "plt.plot(x,y)\n",
    "plt.plot(x,y,'o')\n",
    "plt.show()"
   ]
  },
  {
   "cell_type": "code",
   "execution_count": 4,
   "metadata": {},
   "outputs": [
    {
     "name": "stdout",
     "output_type": "stream",
     "text": [
      "[0.         0.11111111 0.22222222 0.33333333 0.44444444 0.55555556\n",
      " 0.66666667 0.77777778 0.88888889 1.        ]\n",
      "[0.  0.1 0.2 0.3 0.4 0.5 0.6 0.7 0.8 0.9 1. ]\n"
     ]
    }
   ],
   "source": [
    "print(np.linspace(0,1,10))\n",
    "print(np.arange(0,1.1,0.1))"
   ]
  },
  {
   "attachments": {},
   "cell_type": "markdown",
   "metadata": {},
   "source": [
    "## Derivatives by Interpolation\n",
    "\n",
    "If $f(x)$ is given as a set of discrete data points, interpolation can be a very effective means of computing its derivative. The idea is to approximate the derivative of $f(x)$ with the derivative of the interpolant. This method is particularly useful if the data points are located at uneven intervals of $x$, when the finite difference approximations are not applicable.\n",
    "\n",
    "Solving an interpolation problem leads to a problem in linear algebra where wh have to solve a matrix if we choose to interpolate with the standard monomial basis. If, instead, we interpolate with the Lagrange basis, there is no need to compute a matrix inverse. Recall the equation for Lagrange interpolation for a polynomial of degree $n$\n",
    "\n",
    "$$L_n(x) = \\sum_{i=1}^{n+1} \\left(\\prod_{\\substack{j=1 \\\\ i\\neq j}}^{n+1} \\frac{x-x_{j}}{x_{i} - x_{j}}\\right)y_{i}$$\n",
    "\n",
    "Consider a quadratic interpolation function\n",
    "\n",
    "$$f(x) = \\frac{(x-x_i)(x-x_{i+1})}{(x_{i-1}-x_i)(x_{i-1}-x_{i+1})}y_{i-1} + \\frac{(x-x_{i-1})(x-x_{i+1})}{(x_i-x_{i-1})(x_i-x_{i+1})}y_i + \\frac{(x-x_i)(x-x_{i-1})}{(x_{i+1}-x_i)(x_{i+1}-x_{i-1})}y_{i+1}$$\n",
    "\n",
    "If $\\Delta h$ is the same for all data points, then\n",
    "\n",
    "$$f(x) = \\frac{x^2-x(x_i+x_{i+1})+x_i x_{i+1}}{2h^2}y_{i-1} - \\frac{x^2-x(x_{i-1}+x_{i+1})+x_{i-1} x_{i+1}}{h^2}y_i + \\frac{x^2-x(x_i+x_{i-1})+x_i x_{i-1}}{2h^2}y_{i+1}$$\n",
    "\n",
    "Taking the derivative, we get\n",
    "\n",
    "$$f'(x) = \\frac{2x-(x_i+x_{i+1})}{2h^2}y_{i-1} - \\frac{2x-(x_{i-1}+x_{i+1})}{h^2}y_i + \\frac{2x-(x_i+x_{i-1})}{2h^2}y_{i+1}$$\n",
    "\n",
    "Since we decided on a second-order polynomial to interpolate, we require three points to compute the curve and its derivative. Additionally, the derivative is able to be compute at any one of these three points. Using the following relationships,\n",
    "\n",
    "$$x_{i-1} = x_{i-1} \\\\\n",
    "x_i = x_{i-1} + h\\\\\n",
    "x_{i+1} = x_{i-1} + 2h$$\n",
    "\n",
    "we can show that\n",
    "\n",
    "$$\\begin{align}\n",
    "\\textbf{Forward:} ~~~~~ &f'(x_{i-1}) = \\frac{-3y_{i-1} + 4y_i - y_{i+1}}{2h} \\nonumber \\\\\n",
    "\\textbf{Center:} ~~~~~ &f'(x_{i}) = \\frac{y_{i+1} - y_{i-1}}{2h} \\nonumber \\\\\n",
    "\\textbf{Backward:} ~~~~~ &f'(x_{i+1}) = \\frac{y_{i-1} - 4y_i + 3y_{i+1}}{2h} \\nonumber \\\\\n",
    "\\end{align}$$"
   ]
  },
  {
   "attachments": {},
   "cell_type": "markdown",
   "metadata": {},
   "source": [
    "## Example: Lagrange Interpolation\n",
    "\n",
    "Compute the forawrd, center, and backward differences at the following data points:\n",
    "\n",
    "$$x = \\begin{bmatrix}\n",
    "3 \\\\ \n",
    "7 \\\\ \n",
    "11 \\\\ \n",
    "15\n",
    "\\end{bmatrix}, ~~~~~\n",
    "y = \\begin{bmatrix}\n",
    "7 \\\\ \n",
    "6 \\\\ \n",
    "9 \\\\ \n",
    "6\n",
    "\\end{bmatrix}$$"
   ]
  },
  {
   "cell_type": "code",
   "execution_count": null,
   "metadata": {},
   "outputs": [],
   "source": []
  },
  {
   "attachments": {},
   "cell_type": "markdown",
   "metadata": {},
   "source": [
    "## Tayor Series\n",
    "\n",
    "Consider the forward and backward Taylor series of $f(x)$ about $x$, evaluated at $x_{i+1}$ and $x_{i-1}$\n",
    "\n",
    "$$\\begin{align}\n",
    "f(x_{i+1}) \\overset{\\Delta}= f(x+h) &= f(x) + f'(x)h + f''(x)\\dfrac{h^2}{2!} + f'''(x)\\dfrac{h^3}{3!} + f^{(4)}(x)\\dfrac{h^4}{4!} + \\ldots \\tag{1}\\\\ \\nonumber \\\\\n",
    "f(x_{i-1}) \\overset{\\Delta}= f(x-h) &= f(x) - f'(x)h + f''(x)\\dfrac{h^2}{2!} - f'''(x)\\dfrac{h^3}{3!} + f^{(4)}(x)\\dfrac{h^4}{4!} - \\ldots \\tag{2}\\end{align}$$\n",
    "\n",
    "Also consider the forward and backward Taylor series of $f(x)$ about $x$, evaluated at $x_{i+2}$ and $x_{i-2}$\n",
    "\n",
    "$$\\begin{align}\n",
    "f(x_{i+2}) \\overset{\\Delta}= f(x+2h) &= f(x) + 2f'(x)h + 4f''(x)\\dfrac{h^2}{2!} + 8f'''(x)\\dfrac{h^3}{3!} + 16f^{(4)}(x)\\dfrac{h^4}{4!} + \\ldots \\tag{3} \\\\ \\nonumber \\\\\n",
    "f(x_{i-2}) \\overset{\\Delta}= f(x-2h) &= f(x) - 2f'(x)h + 4f''(x)\\dfrac{h^2}{2!} - 8f'''(x)\\dfrac{h^3}{3!} + 16f^{(4)}(x)\\dfrac{h^4}{4!} - \\ldots \\tag{4} \\end{align}$$\n",
    "\n",
    "We can combine these equations to estimate numerical derivatives of different types (forward, backward, centered) as well as the order of magnitude of their errors.\n",
    "\n",
    "### 2-Point Differences\n",
    "$$\\begin{align}\n",
    "\\textbf{Forward:} ~~~ (1) ~~~ \\to ~~~ &f'(x_i) = \\frac{f((x_{i+1}))-f(x_{i})}{h} + \\mathcal{O}(h) \\nonumber \\\\ \\nonumber \\\\\n",
    "\\textbf{Backward:} ~~~ (2) ~~~ \\to ~~~ &f'(x_i) = \\frac{f((x_{i}))-f(x_{i-1})}{h} + \\mathcal{O}(h) \\nonumber \\\\ \\nonumber \\\\\n",
    "\\end{align}$$\n",
    "\n",
    "### 3-Point Differences\n",
    "$$\\begin{align}\n",
    "\\textbf{Centered:} ~~~ (1),(2) ~~~ \\to ~~~ &f'(x_i) = \\frac{f(x_{i+1})-f(x_{i-1})}{2h} + \\mathcal{O}(h^2) \\nonumber \\\\ \\nonumber \\\\\n",
    "\\textbf{Forward:} ~~~ (1),(3) ~~~ \\to ~~~ &f'(x_i) = \\frac{-3f(x_{i})+4f(x_{i+1})-f(x_{i+2})}{2h} + \\mathcal{O}(h^2) \\nonumber \\\\ \\nonumber \\\\\n",
    "\\textbf{Backward:} ~~~ (2),(4) ~~~ \\to ~~~ &f'(x_i) = \\frac{3f(x_{i})-4f(x_{i-1})+f(x_{i-2})}{2h} + \\mathcal{O}(h^2) \\nonumber \\\\ \\nonumber \\\\\n",
    "\\end{align}$$"
   ]
  },
  {
   "attachments": {},
   "cell_type": "markdown",
   "metadata": {},
   "source": [
    "## Example: Centered Difference\n",
    "\n",
    "Compute $y'$ and $y''$ at $x = 0.1$ using the centered difference formulas assuming a constant step size, $h=0.1$, for the following dataset\n",
    "\n",
    "$$x = \\begin{bmatrix}\n",
    "-0.1 \\\\ \n",
    "0.0 \\\\ \n",
    "0.1 \\\\ \n",
    "0.2 \\\\\n",
    "0.3\n",
    "\\end{bmatrix}, ~~~~~\n",
    "y = \\begin{bmatrix}\n",
    "-2.001 \\\\ \n",
    "-2.000 \\\\ \n",
    "-1.999 \\\\ \n",
    "-1.992 \\\\\n",
    "-1.993\n",
    "\\end{bmatrix}$$"
   ]
  },
  {
   "cell_type": "code",
   "execution_count": null,
   "metadata": {},
   "outputs": [],
   "source": []
  }
 ],
 "metadata": {
  "kernelspec": {
   "display_name": "aero222",
   "language": "python",
   "name": "python3"
  },
  "language_info": {
   "codemirror_mode": {
    "name": "ipython",
    "version": 3
   },
   "file_extension": ".py",
   "mimetype": "text/x-python",
   "name": "python",
   "nbconvert_exporter": "python",
   "pygments_lexer": "ipython3",
   "version": "3.9.16"
  },
  "orig_nbformat": 4
 },
 "nbformat": 4,
 "nbformat_minor": 2
}
