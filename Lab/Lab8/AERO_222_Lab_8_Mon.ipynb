{
 "cells": [
  {
   "cell_type": "code",
   "execution_count": 13,
   "metadata": {},
   "outputs": [],
   "source": [
    "import numpy as np\n",
    "import matplotlib.pyplot as plt"
   ]
  },
  {
   "attachments": {},
   "cell_type": "markdown",
   "metadata": {},
   "source": [
    "# Solving Systems of Nonlinear Equations\n",
    "\n",
    "Consider a system of nonlinear equations of the form\n",
    "\n",
    "$$\\begin{align}\n",
    "y_1 &= f_1(\\bm{x}) = 0 \\nonumber \\\\\n",
    "y_2 &= f_2(\\bm{x}) = 0 \\nonumber \\\\\n",
    "\\vdots \\nonumber \\\\\n",
    "y_m &= f_m(\\bm{x}) = 0 \\nonumber \\\\\n",
    "\\end{align}$$\n",
    "\n",
    "where $\\bm{x} = [x_1, x_2, \\ldots, x_m]^T$ is the vector of inputs to the nonlinear equations. We wish to solve for the solution $\\hat{\\bm{x}}$ that satisfies this system of equations. Let $\\bm{f}(\\bm{x}) = [f_1(\\bm{x}), f_2(\\bm{x}), \\ldots, f_m(\\bm{x})]^T$ be the vector of nonlinear equations.\n",
    "\n",
    "We start be expanding out the Taylor series to a first-order approximation. Let $\\bm{x}_0$ be a fixed point or initial guess.\n",
    "\n",
    "$$0 = \\bm{f}(\\hat{\\bm{x}}) = \\bm{f}(\\bm{x}_0) + \\nabla \\bm{f}(\\bm{x}_0)(\\hat{\\bm{x}} - \\bm{x}_0) + \\mathcal{O}^2$$\n",
    "\n",
    "We omit the higher-order terms and solve for $\\hat{\\bm{x}}$, which is the solution to this system of equations.\n",
    "\n",
    "$$0 = \\bm{f}(\\bm{x}_0) + \\nabla \\bm{f}(\\bm{x}_0)(\\hat{\\bm{x}} - \\bm{x}_0)$$\n",
    "\n",
    "Let's inspect the $\\nabla \\bm{f}(\\bm{x}_0)$ term. $\\nabla$ is the gradiant operator which performs a vector derivative on its operand. Recall that both $\\bm{x}$ and $\\bm{f}(\\bm{x})$ are vector quantities.\n",
    "\n",
    "$$\\nabla \\bm{f}(\\bm{x}_0) = \\frac{\\partial \\bm{f}}{\\partial \\bm{x}}(\\bm{x_0}) = \n",
    "\\begin{bmatrix}\n",
    "    \\dfrac{\\partial \\bm{f}_1}{\\partial x_1}(\\bm{x_0}) & \\dfrac{\\partial \\bm{f}_1}{\\partial x_2}(\\bm{x_0}) & \\ldots & \\dfrac{\\partial \\bm{f}_1}{\\partial x_m}(\\bm{x_0}) \\\\[3ex]\n",
    "    \\dfrac{\\partial \\bm{f}_2}{\\partial x_1}(\\bm{x_0}) & \\dfrac{\\partial \\bm{f}_2}{\\partial x_2}(\\bm{x_0}) & \\ldots & \\dfrac{\\partial \\bm{f}_2}{\\partial x_m}(\\bm{x_0}) \\\\[1ex]\n",
    "    \\vdots & \\vdots & \\ddots & \\vdots \\\\[1ex]\n",
    "    \\dfrac{\\partial \\bm{f}_m}{\\partial x_1}(\\bm{x_0}) & \\dfrac{\\partial \\bm{f}_m}{\\partial x_2}(\\bm{x_0}) & \\ldots & \\dfrac{\\partial \\bm{f}_m}{\\partial x_m}(\\bm{x_0}) \\\\\n",
    "\\end{bmatrix} = J(\\bm{x_0})$$\n",
    "\n",
    "Here, we define the Jacobian matrix, $J$. Each element of the matrix represents the derivative of a nonlinear function with respect to a specific input. We can substitute the Jacobian matrix into the first-order approximation.\n",
    "\n",
    "$$0 = \\bm{f}(\\bm{x}_0) +J(\\bm{x}_0)(\\hat{\\bm{x}} - \\bm{x}_0)$$\n",
    "\n",
    "Rearranging this equation and solving for the solution, $\\hat{\\bm{x}}$, we get\n",
    "\n",
    "$$\\hat{\\bm{x}} = \\bm{x}_0 - J^{-1}(\\bm{x}_0)\\bm{f}(\\bm{x}_0)$$\n",
    "\n",
    "From a numerical methods perspective, we can also think of this as an iterative solution\n",
    "\n",
    "$$\\boxed{\\bm{x}_{k+1} = \\bm{x}_k - J^{-1}(\\bm{x}_k)\\bm{f}(\\bm{x}_k)}$$"
   ]
  },
  {
   "attachments": {},
   "cell_type": "markdown",
   "metadata": {},
   "source": [
    "### Example\n",
    "\n",
    "Let's try an example. Consider the following system of equations:\n",
    "\n",
    "$$\\begin{align}\n",
    "f_1(\\bm{x}) &= x_1^3 + x_2 - 1 = 0 \\nonumber \\\\\n",
    "f_2(\\bm{x}) &= -x_1 + x_2^3 + 1 = 0\\nonumber\n",
    "\\end{align}$$\n",
    "\n",
    "Given the initial guess of $\\bm{x_0} = \\begin{bmatrix} 1 \\\\ 1 \\end{bmatrix}$, find the solution to this systems of nonlinear equations to a tolerance of $\\lVert x \\rVert _2 < 1 \\times 10^{-8}$. Report the number of iterations, the residual, and the solution."
   ]
  },
  {
   "cell_type": "code",
   "execution_count": 14,
   "metadata": {},
   "outputs": [
    {
     "name": "stdout",
     "output_type": "stream",
     "text": [
      "Converged after 6 iterations\n",
      "Residual = 1.817881472295665e-12\n",
      "x = [1.00000000e+00 1.82650037e-12]\n"
     ]
    }
   ],
   "source": [
    "# Function vector\n",
    "def f(x):\n",
    "    f1 = x[0]**3 + x[1] - 1\n",
    "    f2 = -x[0] + x[1]**3 + 1\n",
    "    return np.array([f1,f2],dtype=float)\n",
    "\n",
    "# Jacobian matrix\n",
    "def J(x):\n",
    "    return np.array([[3*x[0]**2, 1],\n",
    "                     [-1, 3*x[1]**2]],dtype=float)\n",
    "\n",
    "# Parameters\n",
    "x0 = np.array([1,1]) # Initial guess\n",
    "tol = 1e-8 # Tolerance\n",
    "maxIter = 100 # Max iterations\n",
    "\n",
    "for i in range(1,maxIter+1):\n",
    "    J_inv = np.linalg.inv(J(x0))\n",
    "    x = x0 - J_inv @ f(x0) # Multivariable NR-method\n",
    "    x0 = x\n",
    "\n",
    "    res = np.linalg.norm(f(x)) # Residual\n",
    "\n",
    "    # Convergence criteria\n",
    "    if res < tol:\n",
    "        print(f'Converged after {i} iterations')\n",
    "        print(f'Residual = {res}')\n",
    "        print(f'x = {x}')\n",
    "        break\n",
    "\n",
    "    # Failure to converge\n",
    "    if i == maxIter:\n",
    "        print(f'Could not converge in {maxIter} iterations')"
   ]
  },
  {
   "attachments": {},
   "cell_type": "markdown",
   "metadata": {},
   "source": [
    "### Example 2\n",
    "\n",
    "Let's try another example. Consider the following system of equations:\n",
    "\n",
    "$$\\begin{align}\n",
    "f_1(\\bm{x}) &= 3x_1 + x_1^2 + x_2^2 = 0 \\nonumber \\\\\n",
    "f_2(\\bm{x}) &= x_1x_2 - x_2^2 = 0\\nonumber\n",
    "\\end{align}$$\n",
    "\n",
    "Given the initial guess of $\\bm{x_0} = \\begin{bmatrix} 2 \\\\ 2 \\end{bmatrix}$, find the solution to this systems of nonlinear equations to a tolerance of $\\lVert x \\rVert < 1 \\times 10^{-10}$. Report the number of iterations, residual, and the solution."
   ]
  },
  {
   "cell_type": "code",
   "execution_count": 15,
   "metadata": {},
   "outputs": [],
   "source": [
    "# CODE sOLUTION HERE"
   ]
  },
  {
   "attachments": {},
   "cell_type": "markdown",
   "metadata": {},
   "source": [
    "# Nonlinear Least-Squares\n",
    "\n",
    "Let $n > m$. For a given set of $n$ data points, $[x_n,y_n]$,\n",
    "\n",
    "$$\\bm{x} = \\begin{bmatrix}\n",
    "    x_1 \\\\\n",
    "    x_2 \\\\\n",
    "    \\vdots \\\\\n",
    "    x_n\n",
    "\\end{bmatrix}, ~~~~~\n",
    "\\bm{y} = \\begin{bmatrix}\n",
    "    y_1 \\\\\n",
    "    y_2 \\\\\n",
    "    \\vdots \\\\\n",
    "    y_n\n",
    "\\end{bmatrix}$$\n",
    "\n",
    "a set of $m$ unknown parameters, $\\bm{c}$,\n",
    "\n",
    "$$\\bm{c} = \\begin{bmatrix}\n",
    "    c_1 \\\\\n",
    "    c_2 \\\\\n",
    "    \\vdots \\\\\n",
    "    c_m\n",
    "\\end{bmatrix}$$\n",
    "\n",
    "and a nonlinear fitting function, $\\hat{\\bm{y}} = f(\\bm{x},\\bm{c})$, we want to find the solution that minimizes the $L_2$-norm of the residual, $\\bm{r} = \\hat{\\bm{y}} - \\bm{y}$,\n",
    "\n",
    "$$\\min \\sum_{k=1}^{n}\\left(\\hat{y}_{k} - y_{k}\\right)^{2}$$\n",
    "\n",
    "Unlike the classic linear least-squares problem, we cannot immediately convert this equation into a linear form $A \\bm{x} = \\bm{b}$ since the parameters are embedded in the equation in a nonlinear fashion that cannot be simplified. To remedy this, we will linearize the function, $f(\\bm{x},\\bm{c})$, about a fixed-point (initial guess), $\\bar{\\bm{c}}$, by means of a first-order Taylor series expansion.\n",
    "\n",
    "$$\\hat{\\bm{y}} = f(\\bm{x},\\bm{c}) = f(\\bm{x},\\bar{\\bm{c}}) + \\nabla f(\\bm{x},\\bar{\\bm{c}})(\\bm{c} - \\bar{\\bm{c}}) + \\mathcal{O}^2$$\n",
    "\n",
    "We omit the higher-order terms and attempt to equate this to the true data points, $\\bm{y}$,\n",
    "\n",
    "$$\\bm{y} \\approx f(\\bm{x},\\bm{c}) = f(\\bm{x},\\bar{\\bm{c}}) + \\nabla f(\\bm{x},\\bar{\\bm{c}})(\\bm{c} - \\bar{\\bm{c}})$$\n",
    "\n",
    "We can see that by moving the term $f(\\bm{x},\\bar{\\bm{c}})$ to the other side of the equation, we have solved for the residual of our fixed-point.\n",
    "\n",
    "$$\\begin{align}\n",
    "\\bm{y} - \\hat{\\bar{\\bm{y}}} &= -\\bar{\\bm{r}}_0 \\nonumber \\\\\n",
    "&= \\bm{y} - f(\\bm{x},\\bar{\\bm{c}}) \\nonumber \\\\\n",
    "&= \\nabla f(\\bm{x},\\bar{\\bm{c}})(\\bm{c} - \\bar{\\bm{c}}) \\nonumber\n",
    "\\end{align}$$\n",
    "\n",
    "Similar to the previous section, $\\nabla f(\\bm{x},\\bar{\\bm{c}})$ will return a Jacobian matrix. In the case of the nonlinear least-squares problem, it will have the form,\n",
    "\n",
    "$$\\nabla f(\\bm{x},\\bar{\\bm{c}}) = \\frac{\\partial f}{\\partial \\bm{c}}(\\bm{x},\\bar{\\bm{c}}) = \n",
    "\\begin{bmatrix}\n",
    "    \\dfrac{\\partial f}{\\partial c_1}(x_1,\\bar{\\bm{c}}) & \\dfrac{\\partial f}{\\partial c_2}(x_1,\\bar{\\bm{c}}) & \\ldots & \\dfrac{\\partial f}{\\partial c_m}(x_1,\\bar{\\bm{c}}) \\\\[3ex]\n",
    "    \\dfrac{\\partial f}{\\partial c_1}(x_2,\\bar{\\bm{c}}) & \\dfrac{\\partial f}{\\partial c_2}(x_2,\\bar{\\bm{c}}) & \\ldots & \\dfrac{\\partial f}{\\partial c_m}(x_2,\\bar{\\bm{c}}) \\\\[1ex]\n",
    "    \\vdots & \\vdots & \\ddots & \\vdots \\\\[1ex]\n",
    "    \\dfrac{\\partial f}{\\partial c_1}(x_n,\\bar{\\bm{c}}) & \\dfrac{\\partial f}{\\partial c_2}(x_n,\\bar{\\bm{c}}) & \\ldots & \\dfrac{\\partial f}{\\partial c_m}(x_n,\\bar{\\bm{c}}) \\\\\n",
    "\\end{bmatrix} = J(x,\\bar{\\bm{c}}) $$\n",
    "\n",
    "Note that the rows correspond to the $n$ data points and the columns correspond to the partial derivative of the fitting function with respect to the $m$th parameter. Substitute the Jacobian into the residual equation.\n",
    "\n",
    "$$-\\bar{\\bm{r}}_0 = J(\\bm{x},\\bar{\\bm{c}})(\\bm{c} - \\bar{\\bm{c}}) \\implies A \\bm{x} = \\bm{b}$$\n",
    "\n",
    "At last, we see this least-squares problem presented in a linear form. To visually simplify this expression, let $J = J(\\bm{x},\\bar{\\bm{c}})$. From previous lessons, we already know the solution to this problem so we can solve for the difference vector, $\\bm{c} - \\bar{\\bm{c}}$,\n",
    "\n",
    "$$\\bm{c} - \\bar{\\bm{c}} = -\\left(J^T J\\right)^{-1} J^T \\bar{\\bm{r}}$$\n",
    "\n",
    "Rearranging the equation once more to solve for the unknown parameters, $\\bm{c}$, we get\n",
    "\n",
    "$$\\bm{c} = \\bar{\\bm{c}} - \\left(J^T J\\right)^{-1} J^T \\bar{\\bm{r}}$$\n",
    "\n",
    "Recall that $\\bar{\\bm{c}}$ representes a fixed-point. As an iterative process, we treat this value as an initial guess.\n",
    "\n",
    "$$\\boxed{\\bm{c}_{k+1} = \\bm{c}_k - \\left(J_k^T J_k\\right)^{-1} J_k^T \\bm{r}_k}$$"
   ]
  },
  {
   "attachments": {},
   "cell_type": "markdown",
   "metadata": {},
   "source": [
    "### Example\n",
    "\n",
    "Create 100 data points for $x$ uniformly distributed between $-1.5$ and $1.5$ with the equation\n",
    "\n",
    "$$f(x) = \\beta_1 x^3 + \\beta_2 e^{\\beta_3 x} + \\beta_4 x \\sin{x^2}$$\n",
    "\n",
    "where\n",
    "\n",
    "$$\\beta =\n",
    "\\begin{bmatrix}\n",
    "    2 \\\\\n",
    "    4 \\\\\n",
    "    -0.5 \\\\\n",
    "    -\\pi/2\n",
    "\\end{bmatrix}$$\n",
    "\n",
    "Corrupt the measurments with Gaussian noise $\\mathcal{N}(0,0.1)$. Estimate the parameters by iterative nonlinear least-squares with initial guess $\\beta = [1,1,1,1]^T$ to an $L_2$-normed residual tolerance of $1 \\times 10^{-5}$"
   ]
  },
  {
   "cell_type": "code",
   "execution_count": 19,
   "metadata": {},
   "outputs": [
    {
     "data": {
      "image/png": "[encoded data removed]",
      "text/plain": [
       "<Figure size 640x480 with 1 Axes>"
      ]
     },
     "metadata": {},
     "output_type": "display_data"
    }
   ],
   "source": [
    "def f(x,B):\n",
    "    return B[0]*x**3 + B[1]*np.exp(B[2]*x) + B[3]*x*np.sin(x**2)\n",
    "\n",
    "# True params\n",
    "B_true = np.array([2,4,-0.5,-np.pi/2])\n",
    "\n",
    "# x-vals\n",
    "x = np.linspace(-1.5,1.5,100)\n",
    "\n",
    "# function\n",
    "f_true = f(x,B_true)\n",
    "noise = np.random.normal(0,0.1,100)\n",
    "f_meas = f_true + noise\n",
    "\n",
    "# plt.plot(x,f_true,'b-',label='truth')\n",
    "plt.plot(x,f_meas,'r.',label='data')\n",
    "plt.legend()\n",
    "plt.show()"
   ]
  },
  {
   "cell_type": "code",
   "execution_count": null,
   "metadata": {},
   "outputs": [],
   "source": [
    "def J(x,B):\n",
    "    return np.array([x**3, np.exp(B[2]*x), x*B[1]*np.exp(B[2]*x), x*np.sin(x**2)]).T\n",
    "\n",
    "B_0 =np.array([1,1,1,1])\n",
    "maxIter = 100\n",
    "tol = 1e-5\n",
    "res = f(x,B_0) - f(x,B_true)"
   ]
  }
 ],
 "metadata": {
  "kernelspec": {
   "display_name": "aero222",
   "language": "python",
   "name": "python3"
  },
  "language_info": {
   "codemirror_mode": {
    "name": "ipython",
    "version": 3
   },
   "file_extension": ".py",
   "mimetype": "text/x-python",
   "name": "python",
   "nbconvert_exporter": "python",
   "pygments_lexer": "ipython3",
   "version": "3.9.16"
  },
  "orig_nbformat": 4
 },
 "nbformat": 4,
 "nbformat_minor": 2
}
