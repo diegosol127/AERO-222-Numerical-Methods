{
 "cells": [
  {
   "cell_type": "code",
   "execution_count": 1,
   "metadata": {},
   "outputs": [],
   "source": [
    "import numpy as np\n",
    "import matplotlib.pyplot as plt"
   ]
  },
  {
   "attachments": {},
   "cell_type": "markdown",
   "metadata": {},
   "source": [
    "# Numerical Integration\n",
    "\n",
    "- Midpoint Method\n",
    "- Trapezoid Method\n",
    "- Simpson's Method\n",
    "- Gauss-Legendre Quadrature\n",
    "- Richardson Extrapolation\n",
    "\n",
    "Use each of the methods to integrate the function\n",
    "\n",
    "$$y(x) = \\cos(2x)$$\n",
    "\n",
    "whose definite integral bounded by $x \\in [0,\\pi/3]$ is given by\n",
    "\n",
    "$$\\int_0^{\\pi/3} y(x)dx = \\left. \\frac{1}{2}\\sin(2x) \\right\\rvert_0^{\\pi/3}$$"
   ]
  },
  {
   "cell_type": "code",
   "execution_count": null,
   "metadata": {},
   "outputs": [],
   "source": []
  },
  {
   "attachments": {},
   "cell_type": "markdown",
   "metadata": {},
   "source": [
    "# Midpoint Method\n",
    "\n",
    "Subdivide the bounded region of $x \\in [a,b]$ into $n$ partitions.\n",
    "\n",
    "$$a = x_0 < x_1 < x_2 < \\ldots < x_{n-2} < x_{n-1} < x_n = b$$\n",
    "\n",
    "The midpoint rule for estimating a definite integral uses a Riemann sum of rectangles with subintervals, typically of equal width. The height of each rectangle corresponds to $f(x)$ evaluated at the midpoints of the $n$ subintervals. The midpoint method can be computed with the formula\n",
    "\n",
    "$$\\boxed{\\int_a^b f(x)dx \\approx h \\sum_{i=0}^{n-1} f\\left(\\frac{x_i + x_{i+1}}{2}\\right)}~, ~~~ \\text{where} ~~~ h = \\frac{b-a}{n}$$\n",
    "\n",
    "**Note: This method requires a function and cannot use tabular data.**"
   ]
  },
  {
   "attachments": {},
   "cell_type": "markdown",
   "metadata": {},
   "source": [
    "## Example\n",
    "\n",
    "Estimate the following integral using the Midpoint Method with a partition size of $n = 50$.\n",
    "\n",
    "$$\\int_0^{\\pi/3} \\cos(2x)dx$$\n",
    "\n",
    "Compute the absolute error of this approximation."
   ]
  },
  {
   "cell_type": "code",
   "execution_count": null,
   "metadata": {},
   "outputs": [],
   "source": []
  },
  {
   "attachments": {},
   "cell_type": "markdown",
   "metadata": {},
   "source": [
    "# Trapezoid Method\n",
    "\n",
    "Subdivide the bounded region of $x \\in [a,b]$ into $n$ partitions.\n",
    "\n",
    "$$a = x_0 < x_1 < x_2 < \\ldots < x_{n-2} < x_{n-1} < x_n = b$$\n",
    "\n",
    "The Trapezoid Method fits a trapezoid into each subinterval and sums the areas of the trapezoid to approximate the total integral. For each subinterval, the Trapezoid Method computes the area of a trapezoid with corners at $(x_i,0)$, $(x_{i+1},0)$, $(x_i,f(x_i))$, and $(x_{i+1},f(x_{i+1}))$, which is $ h \\frac{f(x_i)+f(x_{i+1})}{2}$. The Trapezoid Method approximates integrals according to the expression\n",
    "\n",
    "$$\\boxed{\\int_a^b f(x)dx \\approx \\frac{h}{2} \\left[ f(x_0) + 2 \\left(\\sum_{i=1}^{n-1} f(x_i)\\right) + f(x_n) \\right]}~, ~~~ \\text{where} ~~~ h = \\frac{b-a}{n}$$\n",
    "\n",
    "**Note: This method requires a function and cannot use tabular data.**"
   ]
  },
  {
   "attachments": {},
   "cell_type": "markdown",
   "metadata": {},
   "source": [
    "## Example\n",
    "\n",
    "Estimate the integral below using the Trapezoidal Method for a range of partitions, $n \\in [10,100]$.\n",
    "\n",
    "$$\\int_0^{\\pi/3} \\cos(2x)dx$$\n",
    "\n",
    "Plot the estimate versus the number of partitions and the relative error versus the number of partitions."
   ]
  },
  {
   "cell_type": "code",
   "execution_count": null,
   "metadata": {},
   "outputs": [],
   "source": []
  },
  {
   "cell_type": "code",
   "execution_count": null,
   "metadata": {},
   "outputs": [],
   "source": []
  },
  {
   "attachments": {},
   "cell_type": "markdown",
   "metadata": {},
   "source": [
    "# Simpson's Method\n",
    "\n",
    "Consider two consecutive subintervals, $[x_{i−1},x_i]$ and $[x_i,x_{i+1}]$. Simpson’s Method approximates the area under $f(x)$ over these two subintervals by fitting a quadratic polynomial through the points $(x_{i−1},f(_{xi−1}))$, $(x_i,f(x_i))$, and $(x_{i+1},f(x_{i+1}))$, which is a unique polynomial, and then integrating the quadratic exactly to get\n",
    "\n",
    "$$\\int_{x-i}^{x+i}P_i(x) = \\frac{h}{3} (f(x_{i-1}) + 4f(x_i) + f(x_{i+1}))$$\n",
    "\n",
    "Divide the interval $[a,b]$ into $n$ paritions to be integrated. Each partition consists of two subintervals, each of length $h = \\frac{b-a}{2n}$. We introduce the points $x_i = a + ih$ for $0 \\leq i \\leq n$ (notice how $x_0 = a$ and $x_{2n} = b$). To approximate the integral over $[a,b]$, we must sum the integrals of $P_i(x)$ over every two subintervals since $P_i(x)$ spans two subintervals. Substituting $\\frac{h}{3} (f(x_{i−1})+4f(x_i)+f(x_{i+1}))$ for the integral of $P_i(x)$ and regrouping the terms for efficiency leads to the formula\n",
    "\n",
    "$$\\boxed{\\int_a^b f(x)dx \\approx \\frac{h}{3} \\left[ f(x_0) + 4 \\left(\\sum_{i=0}^{n-1} f(x_{2i+1})\\right) + 2 \\left(\\sum_{i=1}^{n-1} f(x_{2i})\\right) + f(x_{2n}) \\right]}~, ~~~ \\text{where} ~~~ h = \\frac{b-a}{2n}$$\n",
    "\n",
    "To integrate discrete data points, replace each instance of the continuous function $f(x_k)$ with the discrete value $y_k$.\n",
    "\n",
    "**Note: To use this method, you must have an even number of subintervals and, therefore, an odd number of data points.**"
   ]
  },
  {
   "attachments": {},
   "cell_type": "markdown",
   "metadata": {},
   "source": [
    "## Example\n",
    "\n",
    "Estimate the following integral using the Simpson's Method with a partition size of $n = 50$ (note that this implies there will be 100 subintervals).\n",
    "\n",
    "$$\\int_0^{\\pi/3} \\cos(2x)dx$$\n",
    "\n",
    "Compute the absolute error of this approximation."
   ]
  },
  {
   "cell_type": "code",
   "execution_count": null,
   "metadata": {},
   "outputs": [],
   "source": []
  },
  {
   "attachments": {},
   "cell_type": "markdown",
   "metadata": {},
   "source": [
    "# Gauss-Legendre Quadrature\n",
    "\n",
    "Gauss-Legendre Quadrature assumes the following form:\n",
    "\n",
    "$$\\int_{-1}^1 f(\\rho)d\\rho \\approx \\sum_{i=1}^n w_i f(\\rho_i)$$\n",
    "\n",
    "Use a linear transformation to map the original interval of integration, $x \\in [a,b]$, onto a new interval $\\rho \\in [-1,1]$.\n",
    "\n",
    "$$\\frac{\\lambda - \\sigma_1}{\\sigma_2 - \\sigma_1} = \\frac{\\sigma - \\lambda_1}{\\lambda_2 - \\lambda_1}$$\n",
    "\n",
    "$$\\downarrow$$\n",
    "\n",
    "$$\\frac{x - (-1)}{(+1) - (-1)} = \\frac{\\rho - a}{b - a}$$\n",
    "\n",
    "$$\\Downarrow$$\n",
    "\n",
    "$$\\boxed{\\rho = \\frac{(x+1)(b-a)}{2} + a ~,~~~ d\\rho = \\frac{b-a}{2}dx} ~~~~~ \\text{and} ~~~~~ \\boxed{x = 2 \\frac{\\rho-a}{b-a} - 1 ~,~~~ dx = \\frac{2}{b-a}d\\rho}$$\n",
    "\n",
    "Substituting these results back into the Gauss-Legendre equations, we get\n",
    "\n",
    "$$\\boxed{\\int_a^b f(x)dx = \\frac{b-a}{2} \\int_{-1}^1 f \\left( \\frac{(x+1)(b-a)}{2} + a \\right) d\\rho \\approx \\frac{b-a}{2} \\sum_{i=1}^n w_i f\\left( \\frac{(x+1)(b-a)}{2} + a \\right)}$$\n",
    "\n",
    "where $w_i$ are the weights and $\\rho_i$ are the sampling points.\n",
    "\n",
    "**Note: This method is not appropriate for cases where the function is unknown or for dealing with tabulated data.**"
   ]
  },
  {
   "attachments": {},
   "cell_type": "markdown",
   "metadata": {},
   "source": [
    "## Example\n",
    "\n",
    "Estimate the following integral using 2-point and multi-point Gauss-Legendre Quadrature.\n",
    "\n",
    "$$\\int_0^{\\pi/3} \\cos(2x)dx$$\n",
    "\n",
    "Compute the absolute error of this approximation."
   ]
  },
  {
   "cell_type": "code",
   "execution_count": null,
   "metadata": {},
   "outputs": [],
   "source": []
  },
  {
   "cell_type": "code",
   "execution_count": null,
   "metadata": {},
   "outputs": [],
   "source": []
  },
  {
   "attachments": {},
   "cell_type": "markdown",
   "metadata": {},
   "source": [
    "# Richardson Extrapolation\n",
    "\n",
    "Refer to slides in class notes."
   ]
  }
 ],
 "metadata": {
  "kernelspec": {
   "display_name": "aero222",
   "language": "python",
   "name": "python3"
  },
  "language_info": {
   "codemirror_mode": {
    "name": "ipython",
    "version": 3
   },
   "file_extension": ".py",
   "mimetype": "text/x-python",
   "name": "python",
   "nbconvert_exporter": "python",
   "pygments_lexer": "ipython3",
   "version": "3.9.16"
  },
  "orig_nbformat": 4
 },
 "nbformat": 4,
 "nbformat_minor": 2
}
