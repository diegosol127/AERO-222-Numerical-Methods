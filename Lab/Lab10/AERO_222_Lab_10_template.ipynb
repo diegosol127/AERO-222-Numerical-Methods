{
 "cells": [
  {
   "cell_type": "code",
   "execution_count": 1,
   "metadata": {},
   "outputs": [],
   "source": [
    "import numpy as np\n",
    "import matplotlib.pyplot as plt"
   ]
  },
  {
   "attachments": {},
   "cell_type": "markdown",
   "metadata": {},
   "source": [
    "# Helpful Resources\n",
    "- Numerical Methods in Engineering with Python 3\n",
    "- [Wikipedia - Finite Difference Coefficient](https://en.wikipedia.org/wiki/Finite_difference_coefficient)\n",
    "- [Finite Difference Coefficients Calculator](https://web.media.mit.edu/~crtaylor/calculator.html) (For validation only!)"
   ]
  },
  {
   "attachments": {},
   "cell_type": "markdown",
   "metadata": {},
   "source": [
    "# Taylor Series Expansion\n",
    "\n",
    "Consider the forward and backward Taylor series of $f(x)$ about $x$, evaluated at $x_{i+1}$ and $x_{i-1}$\n",
    "\n",
    "$$\\begin{align}\n",
    "f(x_{i+1}) \\overset{\\Delta}= f(x+h) &= f(x) + f'(x)h + f''(x)\\dfrac{h^2}{2!} + f'''(x)\\dfrac{h^3}{3!} + f^{(4)}(x)\\dfrac{h^4}{4!} + \\ldots \\tag{1} \\\\ \\nonumber \\\\\n",
    "f(x_{i-1}) \\overset{\\Delta}= f(x-h) &= f(x) - f'(x)h + f''(x)\\dfrac{h^2}{2!} - f'''(x)\\dfrac{h^3}{3!} + f^{(4)}(x)\\dfrac{h^4}{4!} - \\ldots \\tag{2}\\end{align}$$\n",
    "\n",
    "Also consider the forward and backward Taylor series of $f(x)$ about $x$, evaluated at $x_{i+2}$ and $x_{i-2}$\n",
    "\n",
    "$$\\begin{align}\n",
    "f(x_{i+2}) \\overset{\\Delta}= f(x+2h) &= f(x) + 2f'(x)h + 4f''(x)\\dfrac{h^2}{2!} + 8f'''(x)\\dfrac{h^3}{3!} + 16f^{(4)}(x)\\dfrac{h^4}{4!} + \\ldots \\tag{3} \\\\ \\nonumber \\\\\n",
    "f(x_{i-2}) \\overset{\\Delta}= f(x-2h) &= f(x) - 2f'(x)h + 4f''(x)\\dfrac{h^2}{2!} - 8f'''(x)\\dfrac{h^3}{3!} + 16f^{(4)}(x)\\dfrac{h^4}{4!} - \\ldots \\tag{4} \\end{align}$$\n",
    "\n",
    "We can combine these equations to estimate numerical derivatives of different types (forward, backward, centered) as well as the order of magnitude of their errors.\n",
    "\n",
    "### 2-Point Differences\n",
    "$$\\begin{align}\n",
    "\\textbf{Forward:} ~~~ (1) ~~~ \\to ~~~ &f'(x_i) = \\frac{(x_{i+1})-f(x_{i})}{h} + \\mathcal{O}(h) \\nonumber \\\\ \\nonumber \\\\\n",
    "\\textbf{Backward:} ~~~ (2) ~~~ \\to ~~~ &f'(x_i) = \\frac{(x_{i})-f(x_{i-1})}{h} + \\mathcal{O}(h) \\nonumber \\\\ \\nonumber \\\\\n",
    "\\end{align}$$\n",
    "\n",
    "### 3-Point Differences\n",
    "$$\\begin{align}\n",
    "\\textbf{Centered:} ~~~ (1),(2) ~~~ \\to ~~~ &f'(x_i) = \\frac{f(x_{i+1})-f(x_{i-1})}{2h} + \\mathcal{O}(h^2) \\nonumber \\\\ \\nonumber \\\\\n",
    "\\textbf{Forward:} ~~~ (1),(3) ~~~ \\to ~~~ &f'(x_i) = \\frac{-3f(x_{i})+4f(x_{i+1})-f(x_{i+2})}{2h} + \\mathcal{O}(h^2) \\nonumber \\\\ \\nonumber \\\\\n",
    "\\textbf{Backward:} ~~~ (2),(4) ~~~ \\to ~~~ &f'(x_i) = \\frac{3f(x_{i})-4f(x_{i-1})+f(x_{i-2})}{2h} + \\mathcal{O}(h^2) \\nonumber \\\\ \\nonumber \\\\\n",
    "\\end{align}$$"
   ]
  },
  {
   "attachments": {},
   "cell_type": "markdown",
   "metadata": {},
   "source": [
    "## Example\n",
    "\n",
    "Compute the 5-point centered difference equation by hand. Then, compute the 2-point, 3-point, and 5-point differences of the equation\n",
    "\n",
    "$$y(x) = e^{-x^2} \\sin{x}$$\n",
    "\n",
    "and compare these results to the true (analytical) solution."
   ]
  },
  {
   "cell_type": "code",
   "execution_count": null,
   "metadata": {},
   "outputs": [],
   "source": []
  },
  {
   "cell_type": "code",
   "execution_count": null,
   "metadata": {},
   "outputs": [],
   "source": []
  },
  {
   "cell_type": "code",
   "execution_count": null,
   "metadata": {},
   "outputs": [],
   "source": []
  },
  {
   "cell_type": "code",
   "execution_count": null,
   "metadata": {},
   "outputs": [],
   "source": []
  },
  {
   "attachments": {},
   "cell_type": "markdown",
   "metadata": {},
   "source": [
    "# Richardson Extrapolation\n",
    "\n",
    "**The Richardson Extrapolation is a method for boosting the accuracy of certain numerical procedures, including finite difference approximations.**\n",
    "\n",
    "Suppose we want to estimate the derivative of a function with a finite difference approximation that is known to have an error on the order of $\\mathcal{O}(h^n)$. To perform the Richardson extrapolation, we consider applying the finite difference equation with two distinct step sizes, $h_1$ and $h_2$, where $h_1 > h_2$. We assume the derivatives can be expressed in the following form:\n",
    "\n",
    "$$\\begin{align}\n",
    "f'_{RE} &= f'_{h_1} + c h_1^n \\nonumber \\\\\n",
    "f'_{RE} &= f'_{h_2} + c h_2^n \\nonumber\n",
    "\\end{align}$$\n",
    "\n",
    "By setting these equations equal to each other, we can solve for $c$.\n",
    "\n",
    "$$f'_{h_1} + c h_1^n = f'_{h_2} + c h_2^n$$\n",
    "\n",
    "$$f'_{h_1} + c \\left( \\frac{h_1}{h_2} h_2 \\right)^n = f'_{h_2} + c h_2^n$$\n",
    "\n",
    "$$c \\left( \\frac{h_1}{h_2} \\right)^n h_2^n - c h_2^n = f'_{h_2} - f'_{h_1}$$\n",
    "\n",
    "$$c = \\frac{f'_{h_2} - f'_{h_1}}{\\left[ \\left( \\frac{h_1}{h_2} \\right)^n - 1 \\right] h_2^n}$$\n",
    "\n",
    "Substituting this into the $h_2$ finite difference equation, we get\n",
    "\n",
    "$$\\boxed{f'_{RE} = f'_{h_2} + \\frac{f'_{h_2} - f'_{h_1}}{\\left[ \\left( \\frac{h_1}{h_2} \\right)^n - 1 \\right] }}$$"
   ]
  },
  {
   "attachments": {},
   "cell_type": "markdown",
   "metadata": {},
   "source": [
    "## Example\n",
    "\n",
    "Apply the Richardson extrapolation method to boost the accuracy of the 3-point centered finite difference approximation of the function\n",
    "\n",
    "$$f(x) = e^x$$\n",
    "\n",
    "evaluated at $x = 0$ using step sizes $h_1 = 0.2$ and $h_2 = 0.1$."
   ]
  },
  {
   "cell_type": "code",
   "execution_count": null,
   "metadata": {},
   "outputs": [],
   "source": []
  },
  {
   "cell_type": "code",
   "execution_count": null,
   "metadata": {},
   "outputs": [],
   "source": []
  }
 ],
 "metadata": {
  "kernelspec": {
   "display_name": "aero222",
   "language": "python",
   "name": "python3"
  },
  "language_info": {
   "codemirror_mode": {
    "name": "ipython",
    "version": 3
   },
   "file_extension": ".py",
   "mimetype": "text/x-python",
   "name": "python",
   "nbconvert_exporter": "python",
   "pygments_lexer": "ipython3",
   "version": "3.9.16"
  },
  "orig_nbformat": 4
 },
 "nbformat": 4,
 "nbformat_minor": 2
}
