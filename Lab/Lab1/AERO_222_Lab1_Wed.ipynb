{
 "cells": [
  {
   "cell_type": "code",
   "execution_count": 2,
   "metadata": {},
   "outputs": [],
   "source": [
    "import numpy as np\n",
    "from math import log10, floor, factorial"
   ]
  },
  {
   "cell_type": "code",
   "execution_count": 3,
   "metadata": {},
   "outputs": [],
   "source": [
    "def round_to_s(x,s):\n",
    "    n = floor(log10(x)) + 1 - s\n",
    "    return 10**n * round(x * 10**-n)"
   ]
  },
  {
   "cell_type": "code",
   "execution_count": 4,
   "metadata": {},
   "outputs": [
    {
     "name": "stdout",
     "output_type": "stream",
     "text": [
      "3.141592653589793\n",
      "3.1416\n"
     ]
    }
   ],
   "source": [
    "sigFig = 5\n",
    "piRound = round_to_s(np.pi,sigFig)\n",
    "\n",
    "print(np.pi)\n",
    "print(piRound)"
   ]
  },
  {
   "attachments": {},
   "cell_type": "markdown",
   "metadata": {},
   "source": [
    "# Round-off Error"
   ]
  },
  {
   "cell_type": "code",
   "execution_count": 5,
   "metadata": {},
   "outputs": [
    {
     "data": {
      "text/plain": [
       "2.8000000000000003"
      ]
     },
     "execution_count": 5,
     "metadata": {},
     "output_type": "execute_result"
    }
   ],
   "source": [
    "5.9 - 3.1"
   ]
  },
  {
   "cell_type": "code",
   "execution_count": 27,
   "metadata": {},
   "outputs": [
    {
     "data": {
      "text/plain": [
       "False"
      ]
     },
     "execution_count": 27,
     "metadata": {},
     "output_type": "execute_result"
    }
   ],
   "source": [
    "a = 0.6 + 0.6 + 0.000000000000000006\n",
    "b = 1.8\n",
    "eps = 1e-16\n",
    "\n",
    "abs(a-b) <= eps"
   ]
  },
  {
   "attachments": {},
   "cell_type": "markdown",
   "metadata": {},
   "source": [
    "# Truncation Error"
   ]
  },
  {
   "cell_type": "code",
   "execution_count": 24,
   "metadata": {},
   "outputs": [
    {
     "name": "stdout",
     "output_type": "stream",
     "text": [
      "true value: 0.3420201433256687\n",
      "\n",
      "Using 0-term derivative: 0.3490658503988659\n",
      "Relative error: 2.06003e-02\n",
      "\n",
      "Using 1-term derivative: 0.34197708115325554\n",
      "Relative error: 1.25905e-04\n",
      "\n",
      "Using 2-term derivative: 0.3420202684051968\n",
      "Relative error: 3.65708e-07\n",
      "\n",
      "Using 3-term derivative: 0.3420201431138706\n",
      "Relative error: 6.19256e-10\n",
      "\n",
      "Using 4-term derivative: 0.34202014332590347\n",
      "Relative error: 6.86383e-13\n",
      "\n",
      "Using 5-term derivative: 0.3420201433256686\n",
      "Relative error: 3.24607e-16\n",
      "\n",
      "Using 6-term derivative: 0.34202014332566877\n",
      "Relative error: 1.62304e-16\n",
      "\n"
     ]
    }
   ],
   "source": [
    "x = np.pi/9\n",
    "a = 0\n",
    "dx = x - a\n",
    "\n",
    "# approx value\n",
    "sinSum = 0\n",
    "# true value\n",
    "trueSin = np.sin(x)\n",
    "print(f'true value: {trueSin}\\n')\n",
    "\n",
    "for i in range(7):\n",
    "    sinSum += (-1)**i * (x**(2*i + 1)) / factorial(2*i + 1)\n",
    "    relErr = abs((sinSum - trueSin) / trueSin)\n",
    "    print(f'Using {i}-term derivative: {sinSum}')\n",
    "    print(f'Relative error: {relErr:0.5e}\\n')"
   ]
  }
 ],
 "metadata": {
  "kernelspec": {
   "display_name": "aero222",
   "language": "python",
   "name": "python3"
  },
  "language_info": {
   "codemirror_mode": {
    "name": "ipython",
    "version": 3
   },
   "file_extension": ".py",
   "mimetype": "text/x-python",
   "name": "python",
   "nbconvert_exporter": "python",
   "pygments_lexer": "ipython3",
   "version": "3.9.16"
  },
  "orig_nbformat": 4,
  "vscode": {
   "interpreter": {
    "hash": "b311900854484dab44d5e82618872b9b11068ad3efc1ba231edd74e0a2ecdab9"
   }
  }
 },
 "nbformat": 4,
 "nbformat_minor": 2
}
