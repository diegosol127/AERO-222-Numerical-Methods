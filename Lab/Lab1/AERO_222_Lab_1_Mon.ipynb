{
 "cells": [
  {
   "cell_type": "code",
   "execution_count": 1,
   "metadata": {},
   "outputs": [],
   "source": [
    "import numpy as np\n",
    "from math import log10, floor, factorial"
   ]
  },
  {
   "cell_type": "code",
   "execution_count": 3,
   "metadata": {},
   "outputs": [],
   "source": [
    "def round_to_s(x,s):\n",
    "    # x: number\n",
    "    # s: sig figs\n",
    "    n = floor(log10(x)) + 1 - s\n",
    "    return 10**n * round(x * 10**-n)"
   ]
  },
  {
   "cell_type": "code",
   "execution_count": 4,
   "metadata": {},
   "outputs": [
    {
     "name": "stdout",
     "output_type": "stream",
     "text": [
      "abs error = 7.346410206832132e-06\n",
      "rel error = 2.3384349967961744e-06\n"
     ]
    }
   ],
   "source": [
    "absErr = abs(np.pi - round_to_s(np.pi,5))\n",
    "relErr = absErr / abs(np.pi)\n",
    "print(f'abs error = {absErr}')\n",
    "print(f'rel error = {relErr}')\n"
   ]
  },
  {
   "cell_type": "code",
   "execution_count": 5,
   "metadata": {},
   "outputs": [
    {
     "name": "stdout",
     "output_type": "stream",
     "text": [
      "0.30000000000000004\n"
     ]
    }
   ],
   "source": [
    "# Round-off error\n",
    "diff = 5.9 - 3.1\n",
    "eps = 1e-6\n",
    "\n",
    "a = 5.9 - 3.1\n",
    "# print(abs(a - 2.8) <= eps)\n",
    "\n",
    "sum = 0.1 + 0.1 + 0.1\n",
    "print(sum)"
   ]
  },
  {
   "cell_type": "code",
   "execution_count": 8,
   "metadata": {},
   "outputs": [
    {
     "name": "stdout",
     "output_type": "stream",
     "text": [
      "0.3490658503988659\n",
      "Using 0-term: 0.3490658503988659\n",
      "Relative error: 0.020600269342874112\n",
      "\n",
      "-0.007088769245610384\n",
      "Using 1-term: 0.34197708115325554\n",
      "Relative error: 0.00012590536918222973\n",
      "\n",
      "4.318725194122415e-05\n",
      "Using 2-term: 0.3420202684051968\n",
      "Relative error: 3.657080745363703e-07\n",
      "\n",
      "-1.2529132622870686e-07\n",
      "Using 3-term: 0.3420201431138706\n",
      "Relative error: 6.192563178493508e-10\n",
      "\n",
      "2.120328917635747e-10\n",
      "Using 4-term: 0.34202014332590347\n",
      "Relative error: 6.86382551256509e-13\n",
      "\n"
     ]
    }
   ],
   "source": [
    "sinSum = 0\n",
    "x = np.pi/9\n",
    "trueSin = np.sin(x)\n",
    "\n",
    "for i in range(5):\n",
    "    sinSum = sinSum + (-1)**i * (x**(2*i + 1)) / factorial(2*i + 1)\n",
    "    print((-1)**i * (x**(2*i + 1)) / factorial(2*i + 1))\n",
    "    print(f'Using {i}-term: {sinSum}')\n",
    "    relErr = abs(sinSum - trueSin) / trueSin\n",
    "    print(f'Relative error: {relErr}\\n')"
   ]
  },
  {
   "cell_type": "code",
   "execution_count": 8,
   "metadata": {},
   "outputs": [
    {
     "name": "stdout",
     "output_type": "stream",
     "text": [
      "True value: -0.5877852522924734\n",
      "\n",
      "0-term sum: -1.0\n",
      "Relative error: 7.013016e-01\n",
      "\n",
      "1-term sum: -0.5558678019509788\n",
      "Relative error: 5.430121e-02\n",
      "\n",
      "2-term sum: -0.5887433701749547\n",
      "Relative error: 1.630048e-03\n",
      "\n",
      "3-term sum: -0.5877699636164597\n",
      "Relative error: 2.601065e-05\n",
      "\n",
      "4-term sum: -0.5877854036591176\n",
      "Relative error: 2.575203e-07\n",
      "\n",
      "5-term sum: -0.5877852512720046\n",
      "Relative error: 1.736125e-09\n",
      "\n",
      "6-term sum: -0.5877852522974596\n",
      "Relative error: 8.483087e-12\n",
      "\n"
     ]
    }
   ],
   "source": [
    "x = 9*np.pi/5\n",
    "a = 3*np.pi/2\n",
    "h = x - a\n",
    "\n",
    "trueSin = np.sin(x)\n",
    "print(f'True value: {trueSin}\\n')\n",
    "\n",
    "sinSum = 0\n",
    "relErr = abs((sinSum - trueSin) / trueSin)\n",
    "i = 0\n",
    "tol = 1e-10\n",
    "\n",
    "while(relErr > tol):\n",
    "    sinSum = sinSum + (-1)**(i+1) * (h**(2*i)) / factorial(2*i)\n",
    "    relErr = abs((sinSum - trueSin) / trueSin)\n",
    "    print(f'{i}-term sum: {sinSum}')\n",
    "    print(f'Relative error: {relErr:e}\\n')\n",
    "    i += 1"
   ]
  }
 ],
 "metadata": {
  "kernelspec": {
   "display_name": "aero222",
   "language": "python",
   "name": "python3"
  },
  "language_info": {
   "codemirror_mode": {
    "name": "ipython",
    "version": 3
   },
   "file_extension": ".py",
   "mimetype": "text/x-python",
   "name": "python",
   "nbconvert_exporter": "python",
   "pygments_lexer": "ipython3",
   "version": "3.9.16 (main, Jan 11 2023, 16:16:36) [MSC v.1916 64 bit (AMD64)]"
  },
  "orig_nbformat": 4,
  "vscode": {
   "interpreter": {
    "hash": "b311900854484dab44d5e82618872b9b11068ad3efc1ba231edd74e0a2ecdab9"
   }
  }
 },
 "nbformat": 4,
 "nbformat_minor": 2
}
