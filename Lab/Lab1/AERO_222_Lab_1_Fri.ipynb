{
 "cells": [
  {
   "attachments": {},
   "cell_type": "markdown",
   "metadata": {},
   "source": [
    "import libraries"
   ]
  },
  {
   "cell_type": "code",
   "execution_count": 2,
   "metadata": {},
   "outputs": [],
   "source": [
    "import numpy as np\n",
    "from math import floor, log10, factorial"
   ]
  },
  {
   "attachments": {},
   "cell_type": "markdown",
   "metadata": {},
   "source": [
    "Rounding"
   ]
  },
  {
   "cell_type": "code",
   "execution_count": 3,
   "metadata": {},
   "outputs": [],
   "source": [
    "def round_to_s(x,s):\n",
    "    # x: original num\n",
    "    # s: sig digits\n",
    "    n = floor(log10(x)) + 1 - s\n",
    "    return 10**n * round(x * 10**-n)"
   ]
  },
  {
   "cell_type": "code",
   "execution_count": 5,
   "metadata": {},
   "outputs": [
    {
     "name": "stdout",
     "output_type": "stream",
     "text": [
      "3.141592653589793\n",
      "3.1416\n"
     ]
    }
   ],
   "source": [
    "print(np.pi)\n",
    "print(round_to_s(np.pi,5))"
   ]
  },
  {
   "attachments": {},
   "cell_type": "markdown",
   "metadata": {},
   "source": [
    "# Round-off Error"
   ]
  },
  {
   "cell_type": "code",
   "execution_count": 13,
   "metadata": {},
   "outputs": [
    {
     "data": {
      "text/plain": [
       "1.1102230246251565e-16"
      ]
     },
     "execution_count": 13,
     "metadata": {},
     "output_type": "execute_result"
    }
   ],
   "source": [
    "1 - 1/3 - 1/3 - 1/3"
   ]
  },
  {
   "cell_type": "code",
   "execution_count": 15,
   "metadata": {},
   "outputs": [
    {
     "name": "stdout",
     "output_type": "stream",
     "text": [
      "True\n"
     ]
    }
   ],
   "source": [
    "a = 1.8\n",
    "b = 3*0.6\n",
    "tol = 1e-6\n",
    "\n",
    "print(abs(a-b) < tol)"
   ]
  },
  {
   "attachments": {},
   "cell_type": "markdown",
   "metadata": {},
   "source": [
    "# Truncation Error"
   ]
  },
  {
   "cell_type": "code",
   "execution_count": 22,
   "metadata": {},
   "outputs": [
    {
     "name": "stdout",
     "output_type": "stream",
     "text": [
      "True value: 0.3420201433256687\n",
      "\n",
      "Using 1-derivative term: 0.3490658503988659\n",
      "Relative error: 0.020600269342874112\n",
      "\n",
      "Using 2-derivative term: 0.34197708115325554\n",
      "Relative error: 0.00012590536918222973\n",
      "\n",
      "Using 3-derivative term: 0.3420202684051968\n",
      "Relative error: 3.657080745363703e-07\n",
      "\n",
      "Using 4-derivative term: 0.3420201431138706\n",
      "Relative error: 6.192563178493508e-10\n",
      "\n",
      "Using 5-derivative term: 0.34202014332590347\n",
      "Relative error: 6.86382551256509e-13\n",
      "\n"
     ]
    }
   ],
   "source": [
    "x = np.pi/9\n",
    "a = 0\n",
    "dx = x-a\n",
    "\n",
    "# true val\n",
    "sinTrue = np.sin(x)\n",
    "print(f'True value: {sinTrue}\\n')\n",
    "\n",
    "# Taylor series\n",
    "sinSum = 0\n",
    "for i in range(5):\n",
    "    sinSum += (-1)**i * dx**(2*i + 1) / factorial(2*i + 1)\n",
    "    relErr = abs((sinSum-sinTrue) / sinTrue)\n",
    "    print(f'Using {i+1}-derivative term: {sinSum}')\n",
    "    print(f'Relative error: {relErr}\\n')"
   ]
  }
 ],
 "metadata": {
  "kernelspec": {
   "display_name": "aero222",
   "language": "python",
   "name": "python3"
  },
  "language_info": {
   "codemirror_mode": {
    "name": "ipython",
    "version": 3
   },
   "file_extension": ".py",
   "mimetype": "text/x-python",
   "name": "python",
   "nbconvert_exporter": "python",
   "pygments_lexer": "ipython3",
   "version": "3.9.16"
  },
  "orig_nbformat": 4,
  "vscode": {
   "interpreter": {
    "hash": "b311900854484dab44d5e82618872b9b11068ad3efc1ba231edd74e0a2ecdab9"
   }
  }
 },
 "nbformat": 4,
 "nbformat_minor": 2
}
