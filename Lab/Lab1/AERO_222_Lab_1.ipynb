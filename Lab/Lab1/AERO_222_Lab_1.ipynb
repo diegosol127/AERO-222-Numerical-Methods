{
 "cells": [
  {
   "attachments": {},
   "cell_type": "markdown",
   "metadata": {},
   "source": [
    "## Getting Started"
   ]
  },
  {
   "attachments": {},
   "cell_type": "markdown",
   "metadata": {},
   "source": [
    "### Setting up the environment\n",
    "\n",
    "Ask around to see if everyone is familiar with Anaconda, and ask what IDE they use. Encourage them to try VSCode or Jupyter Notebooks for this class\n",
    "\n",
    "As a baseline, everyone should at least be running Python3. Go through the process of setting up a conda environment.\n",
    "```cmd\n",
    "conda create --name aero222 python=3.9\n",
    "```\n",
    "Activate the environment and install basic packages to get started.\n",
    "```cmd\n",
    "conda activate aero222\n",
    "pip install numpy scipy matplotlib\n",
    "```\n",
    "If they want to use Jupyter Notebooks on VSCode, install this one too.\n",
    "```cmd\n",
    "pip install ipykernel\n",
    "```"
   ]
  },
  {
   "attachments": {},
   "cell_type": "markdown",
   "metadata": {},
   "source": [
    "### Additional information\n",
    "\n",
    "**Google is your friend.**\n",
    "If ever run into an error or have a question, there's a 99% chance you can find a post where someone had the exact same question.\n",
    "\n",
    "**Basic library functionality**\n",
    "- Numpy: for using matricies\n",
    "- SciPy: use as needed, it contains a number of computational tools\n",
    "- Matplotlib: for plotting, based on MATLAB's plotting tool\n",
    "\n",
    "**Additional Resources**\n",
    "- \"Numerical Methods in Engineering with Python3\""
   ]
  },
  {
   "attachments": {},
   "cell_type": "markdown",
   "metadata": {},
   "source": [
    "Import Libraries"
   ]
  },
  {
   "cell_type": "code",
   "execution_count": 1,
   "metadata": {},
   "outputs": [],
   "source": [
    "import numpy as np\n",
    "from math import log10, floor, factorial\n",
    "import matplotlib.pyplot as plt"
   ]
  },
  {
   "attachments": {},
   "cell_type": "markdown",
   "metadata": {},
   "source": [
    "## Rounding with Specified Significant Digits"
   ]
  },
  {
   "cell_type": "code",
   "execution_count": 2,
   "metadata": {},
   "outputs": [],
   "source": [
    "def round_to_s(x,s):\n",
    "    # x: original number\n",
    "    # s: number of digits to round to\n",
    "    n = floor(log10(x)) + 1 - s\n",
    "    xRound = 10**n * round(x * 10**-n)\n",
    "    return xRound"
   ]
  },
  {
   "cell_type": "code",
   "execution_count": 3,
   "metadata": {},
   "outputs": [
    {
     "name": "stdout",
     "output_type": "stream",
     "text": [
      "True value of pi: 3.141592653589793\n",
      "Pi rounded to 5 values: 3.1416\n"
     ]
    }
   ],
   "source": [
    "sigFig = 5\n",
    "piRound = round_to_s(np.pi,sigFig)\n",
    "\n",
    "print(f'True value of pi: {np.pi}')\n",
    "print(f'Pi rounded to {sigFig} values: {piRound}')"
   ]
  },
  {
   "attachments": {},
   "cell_type": "markdown",
   "metadata": {},
   "source": [
    "## Round-off Error"
   ]
  },
  {
   "cell_type": "code",
   "execution_count": 4,
   "metadata": {},
   "outputs": [
    {
     "name": "stdout",
     "output_type": "stream",
     "text": [
      "2.8000000000000003\n",
      "False\n",
      "True\n"
     ]
    }
   ],
   "source": [
    "diff = 5.9 - 3.1\n",
    "print(diff)\n",
    "\n",
    "sum = 0.1 + 0.2 + 0.3\n",
    "ans = 0.6\n",
    "print(sum == ans)\n",
    "\n",
    "isEqual2 = round(0.1 + 0.2 + 0.3, 5)  == round(0.6, 5)\n",
    "print(isEqual2)"
   ]
  },
  {
   "cell_type": "code",
   "execution_count": 5,
   "metadata": {},
   "outputs": [
    {
     "name": "stdout",
     "output_type": "stream",
     "text": [
      "True\n",
      "1\n",
      "1.0\n"
     ]
    }
   ],
   "source": [
    "a = 1\n",
    "b = 1 + 1/3 - 1/3\n",
    "\n",
    "print(a == b)\n",
    "print(a)\n",
    "print(b)"
   ]
  },
  {
   "cell_type": "code",
   "execution_count": 6,
   "metadata": {},
   "outputs": [
    {
     "name": "stdout",
     "output_type": "stream",
     "text": [
      "False\n",
      "1\n",
      "1.0000000000000002\n"
     ]
    }
   ],
   "source": [
    "def add_and_subtract(iterations):\n",
    "    result = 1\n",
    "    \n",
    "    for i in range(iterations):\n",
    "        result += 1/3\n",
    "\n",
    "    for i in range(iterations):\n",
    "        result -= 1/3\n",
    "\n",
    "    return result\n",
    "\n",
    "b = add_and_subtract(100)\n",
    "\n",
    "print(a == b)\n",
    "print(a)\n",
    "print(b)"
   ]
  },
  {
   "attachments": {},
   "cell_type": "markdown",
   "metadata": {},
   "source": [
    "## Truncation Error"
   ]
  },
  {
   "cell_type": "code",
   "execution_count": 7,
   "metadata": {},
   "outputs": [
    {
     "name": "stdout",
     "output_type": "stream",
     "text": [
      "Using 0-term: 0.3490658503988659\n",
      "Relative error: 0.020600269342874112\n",
      "\n",
      "Using 1-term: 0.34197708115325554\n",
      "Relative error: 0.00012590536918222973\n",
      "\n",
      "Using 2-term: 0.3420202684051968\n",
      "Relative error: 3.657080745363703e-07\n",
      "\n",
      "Using 3-term: 0.3420201431138706\n",
      "Relative error: 6.192563178493508e-10\n",
      "\n",
      "Using 4-term: 0.34202014332590347\n",
      "Relative error: 6.86382551256509e-13\n",
      "\n",
      "\n",
      "The true sin(pi/9) is: 0.3420201433256687\n"
     ]
    }
   ],
   "source": [
    "sinSum = 0\n",
    "x = np.pi/9\n",
    "trueSin = np.sin(np.pi/9)\n",
    "\n",
    "for i in range(5):\n",
    "    sinSum = sinSum + (-1)**(i) * (x**(2*i + 1) / factorial(2*i + 1))\n",
    "    print(f'Using {i}-term: {sinSum}')\n",
    "    relErr = np.abs(sinSum - trueSin) / trueSin\n",
    "    print(f'Relative error: {relErr}\\n')\n",
    "    \n",
    "print(f'\\nThe true sin(pi/9) is: {trueSin}')"
   ]
  },
  {
   "attachments": {},
   "cell_type": "markdown",
   "metadata": {},
   "source": [
    "**Assign this example as a problem**"
   ]
  },
  {
   "cell_type": "code",
   "execution_count": 8,
   "metadata": {},
   "outputs": [
    {
     "name": "stdout",
     "output_type": "stream",
     "text": [
      "True value: -0.5877852522924734\n",
      "\n",
      "0-term sum: -1.0\n",
      "Relative error: 7.013016e-01\n",
      "\n",
      "1-term sum: -0.5558678019509788\n",
      "Relative error: 5.430121e-02\n",
      "\n",
      "2-term sum: -0.5887433701749547\n",
      "Relative error: 1.630048e-03\n",
      "\n",
      "3-term sum: -0.5877699636164597\n",
      "Relative error: 2.601065e-05\n",
      "\n",
      "4-term sum: -0.5877854036591176\n",
      "Relative error: 2.575203e-07\n",
      "\n",
      "5-term sum: -0.5877852512720046\n",
      "Relative error: 1.736125e-09\n",
      "\n",
      "6-term sum: -0.5877852522974596\n",
      "Relative error: 8.483087e-12\n",
      "\n"
     ]
    }
   ],
   "source": [
    "x = 9*np.pi/5\n",
    "a = 3*np.pi/2\n",
    "h = x - a\n",
    "\n",
    "trueSin = np.sin(x)\n",
    "print(f'True value: {trueSin}\\n')\n",
    "\n",
    "sinSum = 0\n",
    "relErr = abs((sinSum - trueSin) / trueSin)\n",
    "i = 0\n",
    "tol = 1e-10\n",
    "\n",
    "while(relErr > tol):\n",
    "    sinSum = sinSum + (-1)**(i+1) * (h**(2*i)) / factorial(2*i)\n",
    "    relErr = abs((sinSum - trueSin) / trueSin)\n",
    "    print(f'{i}-term sum: {sinSum}')\n",
    "    print(f'Relative error: {relErr:e}\\n')\n",
    "    i += 1"
   ]
  },
  {
   "cell_type": "code",
   "execution_count": 9,
   "metadata": {},
   "outputs": [
    {
     "name": "stdout",
     "output_type": "stream",
     "text": [
      "Using 0-term: 1.0\n",
      "Using 1-term: 3.0\n",
      "Using 2-term: 5.0\n",
      "Using 3-term: 6.333333333333333\n",
      "Using 4-term: 7.0\n",
      "Using 5-term: 7.266666666666667\n",
      "Using 6-term: 7.355555555555555\n",
      "Using 7-term: 7.3809523809523805\n",
      "Using 8-term: 7.387301587301587\n",
      "Using 9-term: 7.3887125220458545\n",
      "Using 10-term: 7.388994708994708\n",
      "Using 11-term: 7.389046015712681\n",
      "Using 12-term: 7.3890545668323435\n",
      "\n",
      "Relative error after 12 terms: 2.073469583091495e-07\n",
      "\n",
      "The true e^2 is: 7.38905609893065\n"
     ]
    }
   ],
   "source": [
    "expSum = 0\n",
    "x = 2\n",
    "trueExp = np.exp(2)\n",
    "\n",
    "relErr = 1\n",
    "tol = 1e-6\n",
    "i = 0\n",
    "\n",
    "while(relErr > tol):\n",
    "    expSum = expSum + ((x**i) / factorial(i))\n",
    "    print(f'Using {i}-term: {expSum}')\n",
    "    relErr = np.abs(expSum - trueExp) / trueExp\n",
    "    i += 1\n",
    "\n",
    "print(f'\\nRelative error after {i-1} terms: {relErr}')\n",
    "print(f'\\nThe true e^2 is: {trueExp}')"
   ]
  },
  {
   "attachments": {},
   "cell_type": "markdown",
   "metadata": {},
   "source": [
    "## Error Regimes"
   ]
  },
  {
   "cell_type": "code",
   "execution_count": 10,
   "metadata": {},
   "outputs": [
    {
     "data": {
      "image/png": "[encoded data removed]",
      "text/plain": [
       "<Figure size 640x480 with 1 Axes>"
      ]
     },
     "metadata": {},
     "output_type": "display_data"
    }
   ],
   "source": [
    "a = np.linspace(5,85,300)\n",
    "h1 = 2.**(-a)\n",
    "h2 = h1.astype('single').copy()\n",
    "\n",
    "def y(x):\n",
    "    return np.exp(100*x)\n",
    "\n",
    "x = 0\n",
    "dydx1 = (y(x+h1) - y(x)) / h1\n",
    "dydx2 = (y(x+h2) - y(x)) / h2\n",
    "# true value of dydx at x=0 is 100\n",
    "relErr1 = np.abs(100 - dydx1) / 100\n",
    "relErr2 = np.abs(100 - dydx2) / 100\n",
    "\n",
    "plt.loglog(h1,relErr1,'bo',label='double precision')\n",
    "plt.loglog(h1,relErr2,'ro',label='single precision')\n",
    "plt.xlabel('Log Step Size h')\n",
    "plt.ylabel('Log Relative Error')\n",
    "plt.title(r'y(x)=$e^{100x}$, $\\hspace{1}$ $\\frac{dy}{dx}$=100$e^{100x}$')\n",
    "plt.legend()\n",
    "plt.show()"
   ]
  }
 ],
 "metadata": {
  "kernelspec": {
   "display_name": "aero222",
   "language": "python",
   "name": "python3"
  },
  "language_info": {
   "codemirror_mode": {
    "name": "ipython",
    "version": 3
   },
   "file_extension": ".py",
   "mimetype": "text/x-python",
   "name": "python",
   "nbconvert_exporter": "python",
   "pygments_lexer": "ipython3",
   "version": "3.9.16"
  },
  "orig_nbformat": 4,
  "vscode": {
   "interpreter": {
    "hash": "b311900854484dab44d5e82618872b9b11068ad3efc1ba231edd74e0a2ecdab9"
   }
  }
 },
 "nbformat": 4,
 "nbformat_minor": 2
}
