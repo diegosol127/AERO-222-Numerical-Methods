{
 "cells": [
  {
   "attachments": {},
   "cell_type": "markdown",
   "metadata": {},
   "source": [
    "Import libraries"
   ]
  },
  {
   "cell_type": "code",
   "execution_count": 15,
   "metadata": {},
   "outputs": [],
   "source": [
    "import numpy as np"
   ]
  },
  {
   "attachments": {},
   "cell_type": "markdown",
   "metadata": {},
   "source": [
    "# Systems of Linear Equations"
   ]
  },
  {
   "attachments": {},
   "cell_type": "markdown",
   "metadata": {},
   "source": [
    "A system of linear equations has the form\n",
    "\n",
    "$\\begin{align}\n",
    "    A_{11}x_1 + A_{12}x_2 + \\cdots + A_{1n}x_n &= b_1 \\nonumber \\\\\n",
    "    A_{21}x_1 + A_{22}x_2 + \\cdots + A_{2n}x_n &= b_2 \\nonumber \\\\\n",
    "    \\vdots \\nonumber \\\\\n",
    "    A_{n1}x_1 + A_{n2}x_2 + \\cdots + A_{nn}x_n &= b_n \\nonumber \\\\\n",
    "\\end{align}$\n",
    "\n",
    "The coefficients $A_{ij}$ and the constants $b_j$ are known, and $x_i$ represents the unknowns. A linear system of equations can be written in a matrix notation as\n",
    "\n",
    "$$\\begin{bmatrix}\n",
    "    A_{11} & A_{12} & \\cdots & A_{1n} \\\\\n",
    "    A_{21} & A_{22} & \\cdots & A_{2n} \\\\\n",
    "    \\vdots & \\vdots & \\ddots & \\vdots \\\\\n",
    "    A_{n1} & A_{n2} & \\cdots & A_{nn} \\\\\n",
    "\\end{bmatrix}\n",
    "\n",
    "\\begin{bmatrix}\n",
    "    x_1    \\\\\n",
    "    x_2    \\\\\n",
    "    \\vdots \\\\\n",
    "    x_n    \\\\\n",
    "\\end{bmatrix}\n",
    "\n",
    "=\n",
    "\n",
    "\\begin{bmatrix}\n",
    "    b_1    \\\\\n",
    "    b_2    \\\\\n",
    "    \\vdots \\\\\n",
    "    b_n    \\\\\n",
    "\\end{bmatrix}\n",
    "$$\n",
    "\n",
    "or simply as\n",
    "\n",
    "$$Ax = b$$\n",
    "\n",
    "A particularly useful representation of the equations for computational purposes is the augmented coefficient matrix obtained by adjoining the constant vector $b$ to the coefficient matrix $A$ in the following fashion:\n",
    "\n",
    "$$\\left[\n",
    "  \\begin{matrix}\n",
    "      A_{11} & A_{12} & \\cdots & A_{1n} \\\\\n",
    "      A_{21} & A_{22} & \\cdots & A_{2n} \\\\\n",
    "      \\vdots & \\vdots & \\ddots & \\vdots \\\\\n",
    "      A_{n1} & A_{n2} & \\cdots & A_{nn} \\\\\n",
    "  \\end{matrix}\n",
    "\\left|\n",
    "  \\,\n",
    "  \\begin{matrix}\n",
    "    b_1    \\\\\n",
    "    b_2    \\\\\n",
    "    \\vdots \\\\\n",
    "    b_n    \\\\\n",
    "  \\end{matrix}\n",
    "\\right.\n",
    "\\right]\n",
    "$$\n",
    "\n",
    "A system of $n$ linear equations in $n$ unknowns has a unique solution, provided that the coefficeint matrix $A$ is nonsingular. The rows and columns of a nonsingular martix are linearly independent."
   ]
  },
  {
   "attachments": {},
   "cell_type": "markdown",
   "metadata": {},
   "source": [
    "# Row Operations"
   ]
  },
  {
   "attachments": {},
   "cell_type": "markdown",
   "metadata": {},
   "source": [
    "Perform the following row operations on matrix $A$:\n",
    "- swapping two rows\n",
    "- mutiplying a row by a non-zero number\n",
    "- adding a multiple of one row to another row\n",
    "\n",
    "$$A = \\begin{bmatrix}\n",
    "5 & -2 & 0 \\\\\n",
    "7 &  3 & 3 \\\\ \n",
    "1 &  6 & 5 \\\\ \n",
    "\\end{bmatrix}$$"
   ]
  },
  {
   "attachments": {},
   "cell_type": "markdown",
   "metadata": {},
   "source": [
    "Check if matrix is nonsingular"
   ]
  },
  {
   "cell_type": "code",
   "execution_count": 16,
   "metadata": {},
   "outputs": [
    {
     "data": {
      "text/plain": [
       "array([[ 5., -2.,  0.],\n",
       "       [ 7.,  3.,  3.],\n",
       "       [ 1.,  6.,  5.]])"
      ]
     },
     "execution_count": 16,
     "metadata": {},
     "output_type": "execute_result"
    }
   ],
   "source": [
    "A = np.array([[5, -2, 0],\n",
    "              [7,  3, 3],\n",
    "              [1,  6, 5]],dtype=float)\n",
    "\n",
    "np.linalg.det(A)\n",
    "\n",
    "A"
   ]
  },
  {
   "attachments": {},
   "cell_type": "markdown",
   "metadata": {},
   "source": [
    "Swapping two rows"
   ]
  },
  {
   "cell_type": "code",
   "execution_count": null,
   "metadata": {},
   "outputs": [],
   "source": []
  },
  {
   "attachments": {},
   "cell_type": "markdown",
   "metadata": {},
   "source": [
    "Mutiplying a row by a non-zero number"
   ]
  },
  {
   "cell_type": "code",
   "execution_count": null,
   "metadata": {},
   "outputs": [],
   "source": []
  },
  {
   "attachments": {},
   "cell_type": "markdown",
   "metadata": {},
   "source": [
    "Adding a multiple of one row to another row"
   ]
  },
  {
   "cell_type": "code",
   "execution_count": null,
   "metadata": {},
   "outputs": [],
   "source": []
  },
  {
   "attachments": {},
   "cell_type": "markdown",
   "metadata": {},
   "source": [
    "# Gaussian Elimination"
   ]
  },
  {
   "attachments": {},
   "cell_type": "markdown",
   "metadata": {},
   "source": [
    "Our goal is to transform the familiar matrix form of our linear system of equations into a new form that will easily allow to solve for the unknowns.\n",
    "\n",
    "$$Ax = b \\implies Ux = c$$\n",
    "\n",
    "Gaussian can be broken down into two phases:\n",
    "1. Elimination\n",
    "   - multiply an equation by a constant, then subtract it from another equation\n",
    "   - the equation being subtracted is the **pivot equation**\n",
    "   - eliminate coefficients to from an upper traingular matrix\n",
    "2. Back substitution\n",
    "   - compute the unknowns by taking advantage of the traingular matrix form\n",
    "\n",
    "To showcase this procedure, solve the following system of equations:\n",
    "\n",
    "$\\begin{align}\n",
    "    4x_1 - 2x_2 + x_3   &= 11 \\nonumber  \\\\\n",
    "    -2x_1 + 4x_2 - 2x_3 &= -16 \\nonumber \\\\\n",
    "    x_1 - 2x_2 + 4x_3   &= 17 \\nonumber  \\\\\n",
    "\\end{align}$"
   ]
  },
  {
   "cell_type": "code",
   "execution_count": 17,
   "metadata": {},
   "outputs": [],
   "source": [
    "A = np.array([[ 4, -2,  1],\n",
    "              [-2,  4, -2],\n",
    "              [ 1, -2,  4]],dtype=float)\n",
    "\n",
    "b = np.array([ 11, \\\n",
    "              -16, \\\n",
    "               17])"
   ]
  },
  {
   "attachments": {},
   "cell_type": "markdown",
   "metadata": {},
   "source": [
    "Function for Gaussian elimination"
   ]
  },
  {
   "cell_type": "code",
   "execution_count": null,
   "metadata": {},
   "outputs": [],
   "source": []
  },
  {
   "attachments": {},
   "cell_type": "markdown",
   "metadata": {},
   "source": [
    "# Pivoting"
   ]
  },
  {
   "attachments": {},
   "cell_type": "markdown",
   "metadata": {},
   "source": [
    "Sometimes the order in which the equations are presented have a profound effect on the results. Consider the following augmented coefficient matrix whose solution is $x_1 = x_2 = x_3 = 1$\n",
    "\n",
    "$$\\left[\n",
    "  \\begin{matrix}\n",
    "      2  & -1 & 0  \\\\\n",
    "      -1 & 2  & -1 \\\\\n",
    "      0  & -1 & 1  \\\\\n",
    "  \\end{matrix}\n",
    "\\left|\n",
    "  \\,\n",
    "  \\begin{matrix}\n",
    "    1    \\\\\n",
    "    0    \\\\\n",
    "    0    \\\\\n",
    "  \\end{matrix}\n",
    "\\right.\n",
    "\\right]\n",
    "$$\n",
    "\n",
    "If we swap the first and last row, we can see the issue with solving this system using Gaussian elimination: the first scaling factor is zero.\n",
    "\n",
    "$$\\left[\n",
    "  \\begin{matrix}\n",
    "      0  & -1 & 1  \\\\\n",
    "      -1 & 2  & -1 \\\\\n",
    "      2  & -1 & 0  \\\\\n",
    "  \\end{matrix}\n",
    "\\left|\n",
    "  \\,\n",
    "  \\begin{matrix}\n",
    "    0    \\\\\n",
    "    0    \\\\\n",
    "    1    \\\\\n",
    "  \\end{matrix}\n",
    "\\right.\n",
    "\\right]\n",
    "$$\n",
    "\n",
    "This kind of situation can lead to numerical errors, even if the first index isn't zero. Let's see what happens in this case if we replace zero with an extremely small number, $\\varepsilon$. Then let's compute a round of elimination.\n",
    "\n",
    "$$\\left[\n",
    "  \\begin{matrix}\n",
    "      \\varepsilon  & -1 & 1  \\\\\n",
    "      -1           & 2  & -1 \\\\\n",
    "      2            & -1 & 0  \\\\\n",
    "  \\end{matrix}\n",
    "\\left|\n",
    "  \\,\n",
    "  \\begin{matrix}\n",
    "    0    \\\\\n",
    "    0    \\\\\n",
    "    1    \\\\\n",
    "  \\end{matrix}\n",
    "\\right.\n",
    "\\right]\n",
    "\n",
    "\\implies\n",
    "\n",
    "\\left[\n",
    "  \\begin{matrix}\n",
    "      \\varepsilon  & -1                 & 1                  \\\\\n",
    "      0            & 2 - 1/\\varepsilon  & -1 + 1/\\varepsilon \\\\\n",
    "      0            & -1 + 2/\\varepsilon & -2/\\varepsilon     \\\\\n",
    "  \\end{matrix}\n",
    "\\left|\n",
    "  \\,\n",
    "  \\begin{matrix}\n",
    "    0    \\\\\n",
    "    0    \\\\\n",
    "    1    \\\\\n",
    "  \\end{matrix}\n",
    "\\right.\n",
    "\\right]\n",
    "$$\n",
    "\n",
    "Since the computer works with a fixed word length, all numbers are rounded off to a finite number of significant figures. If $\\varepsilon$ is very small, then $1/\\varepsilon$ is huge and will dominate smaller numbers like in our matrix here. For sufficiently small values of $\\varepsilon$, the system of equations at this step is stored as\n",
    "\n",
    "$$\\left[\n",
    "  \\begin{matrix}\n",
    "      \\varepsilon  & -1            & 1              \\\\\n",
    "      0            & -1/\\varepsilon & 1/\\varepsilon  \\\\\n",
    "      0            & 2/\\varepsilon & -2/\\varepsilon \\\\\n",
    "  \\end{matrix}\n",
    "\\left|\n",
    "  \\,\n",
    "  \\begin{matrix}\n",
    "    0    \\\\\n",
    "    0    \\\\\n",
    "    1    \\\\\n",
    "  \\end{matrix}\n",
    "\\right.\n",
    "\\right]$$\n",
    "\n",
    "Here we can immendiately see that this matrix, which originally had a unique solution, is now singular and cannot be solved."
   ]
  },
  {
   "cell_type": "code",
   "execution_count": null,
   "metadata": {},
   "outputs": [],
   "source": []
  },
  {
   "cell_type": "code",
   "execution_count": 18,
   "metadata": {},
   "outputs": [],
   "source": [
    "A = np.array([[0,3,5],[3,0,1],[6,7,2]])\n",
    "b = np.array([23,14,26])"
   ]
  },
  {
   "attachments": {},
   "cell_type": "markdown",
   "metadata": {},
   "source": [
    "Scaled partial pivoting"
   ]
  },
  {
   "cell_type": "code",
   "execution_count": null,
   "metadata": {},
   "outputs": [],
   "source": []
  },
  {
   "cell_type": "code",
   "execution_count": 19,
   "metadata": {},
   "outputs": [],
   "source": [
    "C = np.array([[4, 1, 3],\n",
    "              [1, -3, 5],\n",
    "              [3, 0, 4]],dtype=float)\n",
    "\n",
    "d = np.array([ 8, \\\n",
    "               2, \\\n",
    "              -3])"
   ]
  },
  {
   "cell_type": "code",
   "execution_count": null,
   "metadata": {},
   "outputs": [],
   "source": []
  },
  {
   "cell_type": "code",
   "execution_count": 20,
   "metadata": {},
   "outputs": [],
   "source": [
    "E = np.array([[600,0,1e15,13],[1e13,5,0,7],[1,3,5,17],[1,1e-6,2,5]],dtype = float)\n",
    "f = np.array([[9],[5],[4],[1]],dtype = float)"
   ]
  },
  {
   "cell_type": "code",
   "execution_count": null,
   "metadata": {},
   "outputs": [],
   "source": []
  }
 ],
 "metadata": {
  "kernelspec": {
   "display_name": "aero222",
   "language": "python",
   "name": "python3"
  },
  "language_info": {
   "codemirror_mode": {
    "name": "ipython",
    "version": 3
   },
   "file_extension": ".py",
   "mimetype": "text/x-python",
   "name": "python",
   "nbconvert_exporter": "python",
   "pygments_lexer": "ipython3",
   "version": "3.9.16"
  },
  "orig_nbformat": 4,
  "vscode": {
   "interpreter": {
    "hash": "b311900854484dab44d5e82618872b9b11068ad3efc1ba231edd74e0a2ecdab9"
   }
  }
 },
 "nbformat": 4,
 "nbformat_minor": 2
}
